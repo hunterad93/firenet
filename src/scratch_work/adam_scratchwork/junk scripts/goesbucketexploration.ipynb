{
 "cells": [
  {
   "cell_type": "code",
   "execution_count": 1,
   "metadata": {},
   "outputs": [],
   "source": [
    "import xarray as xr\n",
    "import fsspec\n",
    "from google.cloud import storage\n",
    "import os\n",
    "import numpy as np\n",
    "\n",
    "\n",
    "os.environ['GOOGLE_APPLICATION_CREDENTIALS'] = '/Users/adamhunter/Documents/school projs/firenet/data/credentials/firenet-99-reader.json'"
   ]
  },
  {
   "cell_type": "markdown",
   "metadata": {},
   "source": [
    "moisture eg: ABI-L2-CMIPC/2023/003/15/OR_ABI-L2-CMIPC-M6C02_G18_s20230031551174_e20230031553547_c20230031554040.nc\n",
    "\n",
    "Temp eg: ABI-L2-LSTC/2022/313/23/OR_ABI-L2-LSTC-M6_G18_s20223132301173_e20223132303546_c20223132305195.nc\n",
    "\n",
    "fire mask eg: ABI-L2-FDCC/2023/001/00/OR_ABI-L2-FDCC-M6_G18_s20230010056170_e20230010058543_c20230010059116.nc\n",
    "\n",
    "fire mask full: ABI-L2-FDCF/2022/286/16/OR_ABI-L2-FDCF-M6_G18_s20222861610210_e20222861619518_c20222861620026.nc\n",
    "\n",
    "fire mask with fires: ABI-L2-FDCC/2023/221/23/OR_ABI-L2-FDCC-M6_G18_s20232212301175_e20232212303548_c20232212304119.nc"
   ]
  },
  {
   "cell_type": "code",
   "execution_count": 9,
   "metadata": {},
   "outputs": [],
   "source": [
    "blob_name = 'ABI-L2-FDCC/2023/352/17/OR_ABI-L2-FDCC-M6_G16_s20233521726173_e20233521728546_c20233521729155.nc'\n",
    "# Use fsspec to create a file system\n",
    "fs = fsspec.filesystem('gcs', token=os.environ['GOOGLE_APPLICATION_CREDENTIALS'])\n",
    "\n",
    "# Open the file directly into memory with xarray\n",
    "f = fs.open(f'gcp-public-data-goes-16/{blob_name}')\n",
    "ds = xr.open_dataset(f, engine='h5netcdf')"
   ]
  },
  {
   "cell_type": "code",
   "execution_count": 10,
   "metadata": {},
   "outputs": [
    {
     "name": "stdout",
     "output_type": "stream",
     "text": [
      "Data variables:\n",
      "    Area                                              (y, x) float32 ...\n",
      "    Temp                                              (y, x) float32 ...\n",
      "    Mask                                              (y, x) float32 ...\n",
      "    Power                                             (y, x) float32 ...\n",
      "    DQF                                               (y, x) float32 ...\n",
      "    time_bounds                                       (number_of_time_bounds) datetime64[ns] ...\n",
      "    goes_imager_projection                            int32 ...\n",
      "    y_image_bounds                                    (number_of_image_bounds) float32 ...\n",
      "    x_image_bounds                                    (number_of_image_bounds) float32 ...\n",
      "    nominal_satellite_subpoint_lat                    float32 ...\n",
      "    nominal_satellite_subpoint_lon                    float32 ...\n",
      "    nominal_satellite_height                          float32 ...\n",
      "    geospatial_lat_lon_extent                         float32 ...\n",
      "    sunglint_angle_bounds                             (number_of_sunglint_angle_bounds) float32 ...\n",
      "    local_zenith_angle_bounds                         (number_of_LZA_bounds) float32 ...\n",
      "    solar_zenith_angle_bounds                         (number_of_SZA_bounds) float32 ...\n",
      "    total_number_of_pixels_with_fires_detected        float64 ...\n",
      "    total_number_of_pixels_with_fire_temperature      float64 ...\n",
      "    total_number_of_pixels_with_fire_area             float64 ...\n",
      "    total_number_of_pixels_with_fire_radiative_power  float64 ...\n",
      "    fire_temperature_outlier_pixel_count              float64 ...\n",
      "    fire_area_outlier_pixel_count                     float64 ...\n",
      "    fire_radiative_power_outlier_pixel_count          float64 ...\n",
      "    minimum_fire_temperature                          float32 ...\n",
      "    maximum_fire_temperature                          float32 ...\n",
      "    mean_fire_temperature                             float32 ...\n",
      "    standard_deviation_fire_temperature               float32 ...\n",
      "    minimum_fire_area                                 float32 ...\n",
      "    maximum_fire_area                                 float32 ...\n",
      "    mean_fire_area                                    float32 ...\n",
      "    standard_deviation_fire_area                      float32 ...\n",
      "    minimum_fire_radiative_power                      float32 ...\n",
      "    maximum_fire_radiative_power                      float32 ...\n",
      "    mean_fire_radiative_power                         float32 ...\n",
      "    standard_deviation_fire_radiative_power           float32 ...\n",
      "    algorithm_dynamic_input_data_container            int32 ...\n",
      "    processing_parm_version_container                 int32 ...\n",
      "    algorithm_product_version_container               int32 ...\n",
      "    percent_uncorrectable_GRB_errors                  float32 ...\n",
      "    percent_uncorrectable_L0_errors                   float32 ...\n"
     ]
    }
   ],
   "source": [
    "print(ds.data_vars)\n"
   ]
  },
  {
   "cell_type": "code",
   "execution_count": 11,
   "metadata": {},
   "outputs": [
    {
     "name": "stdout",
     "output_type": "stream",
     "text": [
      "Min: -0.10133200138807297\n",
      "Max: 0.03861200053142966\n",
      "Mean: -0.031360000428321655\n",
      "Standard deviation: 0.04041451616444654\n"
     ]
    }
   ],
   "source": [
    "mask = ds['x']\n",
    "\n",
    "print('Min:', mask.min().values)\n",
    "print('Max:', mask.max().values)\n",
    "print('Mean:', mask.mean().values)\n",
    "print('Standard deviation:', mask.std().values)"
   ]
  },
  {
   "cell_type": "code",
   "execution_count": 12,
   "metadata": {},
   "outputs": [
    {
     "name": "stdout",
     "output_type": "stream",
     "text": [
      "<xarray.Variable ()>\n",
      "[1 values with dtype=int32]\n",
      "Attributes:\n",
      "    long_name:                       GOES-R ABI fixed grid projection\n",
      "    grid_mapping_name:               geostationary\n",
      "    perspective_point_height:        35786023.0\n",
      "    semi_major_axis:                 6378137.0\n",
      "    semi_minor_axis:                 6356752.31414\n",
      "    inverse_flattening:              298.2572221\n",
      "    latitude_of_projection_origin:   0.0\n",
      "    longitude_of_projection_origin:  -75.0\n",
      "    sweep_angle_axis:                x\n"
     ]
    }
   ],
   "source": [
    "print(ds.variables['goes_imager_projection'])"
   ]
  },
  {
   "cell_type": "code",
   "execution_count": 13,
   "metadata": {},
   "outputs": [],
   "source": [
    "def calculate_degrees(file_id):\n",
    "    \n",
    "    # Read in GOES ABI fixed grid projection variables and constants\n",
    "    x_coordinate_1d = file_id.variables['x'][:]  # E/W scanning angle in radians\n",
    "    y_coordinate_1d = file_id.variables['y'][:]  # N/S elevation angle in radians\n",
    "    projection_info = file_id.variables['goes_imager_projection']\n",
    "    lon_origin = projection_info.attrs['longitude_of_projection_origin']\n",
    "    H = projection_info.attrs['perspective_point_height'] + projection_info.attrs['semi_major_axis']\n",
    "    r_eq = projection_info.attrs['semi_major_axis']\n",
    "    r_pol = projection_info.attrs['semi_minor_axis']    \n",
    "    \n",
    "    # Create 2D coordinate matrices from 1D coordinate vectors\n",
    "    x_coordinate_2d, y_coordinate_2d = np.meshgrid(x_coordinate_1d, y_coordinate_1d)\n",
    "    \n",
    "    # Equations to calculate latitude and longitude\n",
    "    lambda_0 = (lon_origin*np.pi)/180.0  \n",
    "    a_var = np.power(np.sin(x_coordinate_2d),2.0) + (np.power(np.cos(x_coordinate_2d),2.0)*(np.power(np.cos(y_coordinate_2d),2.0)+(((r_eq*r_eq)/(r_pol*r_pol))*np.power(np.sin(y_coordinate_2d),2.0))))\n",
    "    b_var = -2.0*H*np.cos(x_coordinate_2d)*np.cos(y_coordinate_2d)\n",
    "    c_var = (H**2.0)-(r_eq**2.0)\n",
    "    r_s = (-1.0*b_var - np.sqrt((b_var**2)-(4.0*a_var*c_var)))/(2.0*a_var)\n",
    "    s_x = r_s*np.cos(x_coordinate_2d)*np.cos(y_coordinate_2d)\n",
    "    s_y = - r_s*np.sin(x_coordinate_2d)\n",
    "    s_z = r_s*np.cos(x_coordinate_2d)*np.sin(y_coordinate_2d)\n",
    "    \n",
    "    # Ignore numpy errors for sqrt of negative number; occurs for GOES-16 ABI CONUS sector data\n",
    "    np.seterr(all='ignore')\n",
    "    \n",
    "    abi_lat = (180.0/np.pi)*(np.arctan(((r_eq*r_eq)/(r_pol*r_pol))*((s_z/np.sqrt(((H-s_x)*(H-s_x))+(s_y*s_y))))))\n",
    "    abi_lon = (lambda_0 - np.arctan(s_y/(H-s_x)))*(180.0/np.pi)\n",
    "    \n",
    "    return abi_lat, abi_lon\n"
   ]
  },
  {
   "cell_type": "code",
   "execution_count": null,
   "metadata": {},
   "outputs": [],
   "source": [
    "import xarray as xr\n",
    "band_data = ds['DQF'].values\n",
    "zero_indices = np.where(band_data == 0)\n",
    "lat, lon = calculate_degrees(ds)\n",
    "zero_lat_lon = lat[zero_indices], lon[zero_indices]\n",
    "import geojson\n",
    "features = []\n",
    "for lat, lon in zip(*zero_lat_lon):\n",
    "    point = geojson.Point((lon, lat))\n",
    "    features.append(geojson.Feature(geometry=point))\n",
    "\n",
    "feature_collection = geojson.FeatureCollection(features)\n",
    "\n",
    "\n",
    "\n"
   ]
  },
  {
   "cell_type": "code",
   "execution_count": 14,
   "metadata": {},
   "outputs": [
    {
     "ename": "NameError",
     "evalue": "name 'feature_collection' is not defined",
     "output_type": "error",
     "traceback": [
      "\u001b[0;31m---------------------------------------------------------------------------\u001b[0m",
      "\u001b[0;31mNameError\u001b[0m                                 Traceback (most recent call last)",
      "\u001b[1;32m/Users/adamhunter/Documents/school projs/firenet/src/prediction_instance/scratch_work/adam_scratchwork/goesbucketexploration.ipynb Cell 9\u001b[0m line \u001b[0;36m1\n\u001b[0;32m----> <a href='vscode-notebook-cell:/Users/adamhunter/Documents/school%20projs/firenet/src/prediction_instance/scratch_work/adam_scratchwork/goesbucketexploration.ipynb#X11sZmlsZQ%3D%3D?line=0'>1</a>\u001b[0m feature_collection\n",
      "\u001b[0;31mNameError\u001b[0m: name 'feature_collection' is not defined"
     ]
    }
   ],
   "source": [
    "feature_collection"
   ]
  },
  {
   "cell_type": "code",
   "execution_count": 15,
   "metadata": {},
   "outputs": [
    {
     "ename": "NameError",
     "evalue": "name 'feature_collection' is not defined",
     "output_type": "error",
     "traceback": [
      "\u001b[0;31m---------------------------------------------------------------------------\u001b[0m",
      "\u001b[0;31mNameError\u001b[0m                                 Traceback (most recent call last)",
      "\u001b[1;32m/Users/adamhunter/Documents/school projs/firenet/src/prediction_instance/scratch_work/adam_scratchwork/goesbucketexploration.ipynb Cell 10\u001b[0m line \u001b[0;36m4\n\u001b[1;32m      <a href='vscode-notebook-cell:/Users/adamhunter/Documents/school%20projs/firenet/src/prediction_instance/scratch_work/adam_scratchwork/goesbucketexploration.ipynb#X12sZmlsZQ%3D%3D?line=0'>1</a>\u001b[0m \u001b[39mimport\u001b[39;00m \u001b[39mfolium\u001b[39;00m\n\u001b[1;32m      <a href='vscode-notebook-cell:/Users/adamhunter/Documents/school%20projs/firenet/src/prediction_instance/scratch_work/adam_scratchwork/goesbucketexploration.ipynb#X12sZmlsZQ%3D%3D?line=2'>3</a>\u001b[0m \u001b[39m# Create a folium map centered at the first feature's coordinates\u001b[39;00m\n\u001b[0;32m----> <a href='vscode-notebook-cell:/Users/adamhunter/Documents/school%20projs/firenet/src/prediction_instance/scratch_work/adam_scratchwork/goesbucketexploration.ipynb#X12sZmlsZQ%3D%3D?line=3'>4</a>\u001b[0m first_feature \u001b[39m=\u001b[39m feature_collection[\u001b[39m'\u001b[39m\u001b[39mfeatures\u001b[39m\u001b[39m'\u001b[39m][\u001b[39m0\u001b[39m]\n\u001b[1;32m      <a href='vscode-notebook-cell:/Users/adamhunter/Documents/school%20projs/firenet/src/prediction_instance/scratch_work/adam_scratchwork/goesbucketexploration.ipynb#X12sZmlsZQ%3D%3D?line=4'>5</a>\u001b[0m first_coordinates \u001b[39m=\u001b[39m first_feature[\u001b[39m'\u001b[39m\u001b[39mgeometry\u001b[39m\u001b[39m'\u001b[39m][\u001b[39m'\u001b[39m\u001b[39mcoordinates\u001b[39m\u001b[39m'\u001b[39m]\n\u001b[1;32m      <a href='vscode-notebook-cell:/Users/adamhunter/Documents/school%20projs/firenet/src/prediction_instance/scratch_work/adam_scratchwork/goesbucketexploration.ipynb#X12sZmlsZQ%3D%3D?line=5'>6</a>\u001b[0m \u001b[39mmap\u001b[39m \u001b[39m=\u001b[39m folium\u001b[39m.\u001b[39mMap(location\u001b[39m=\u001b[39m[first_coordinates[\u001b[39m1\u001b[39m], first_coordinates[\u001b[39m0\u001b[39m]], zoom_start\u001b[39m=\u001b[39m\u001b[39m5\u001b[39m)\n",
      "\u001b[0;31mNameError\u001b[0m: name 'feature_collection' is not defined"
     ]
    }
   ],
   "source": [
    "import folium\n",
    "\n",
    "# Create a folium map centered at the first feature's coordinates\n",
    "first_feature = feature_collection['features'][0]\n",
    "first_coordinates = first_feature['geometry']['coordinates']\n",
    "map = folium.Map(location=[first_coordinates[1], first_coordinates[0]], zoom_start=5)\n",
    "\n",
    "# Add each feature as a marker to the map\n",
    "for feature in feature_collection['features']:\n",
    "    coordinates = feature['geometry']['coordinates']\n",
    "    folium.Marker([coordinates[1], coordinates[0]]).add_to(map)\n",
    "\n",
    "map\n"
   ]
  },
  {
   "cell_type": "code",
   "execution_count": 16,
   "metadata": {},
   "outputs": [],
   "source": [
    "from datetime import datetime, timedelta\n",
    "import pandas as pd\n",
    "from google.cloud import storage\n",
    "import fsspec\n",
    "import xarray as xr"
   ]
  },
  {
   "cell_type": "code",
   "execution_count": 17,
   "metadata": {},
   "outputs": [],
   "source": [
    "def get_blob_names(attime=datetime.utcnow(), within=pd.to_timedelta(\"1H\"), bucket_name='gcp-public-data-goes-18'):\n",
    "    if isinstance(attime, str):\n",
    "        attime = pd.to_datetime(attime)\n",
    "    if isinstance(within, str):\n",
    "        within = pd.to_timedelta(within)\n",
    "\n",
    "    # Parameter Setup\n",
    "    start = attime - within\n",
    "    end = attime + within\n",
    "\n",
    "    # Set up Google Cloud Storage client\n",
    "    client = storage.Client()\n",
    "    bucket = client.get_bucket(bucket_name)\n",
    "\n",
    "    # Create a range of directories to check. The GOES bucket is\n",
    "    # organized by hour of day.\n",
    "    blob_names = []\n",
    "    for hour in range(start.hour, end.hour + 1):\n",
    "        prefix = f'ABI-L2-CMIPC/{start.year}/{start.timetuple().tm_yday:03d}/{hour:02d}/'\n",
    "        blobs = bucket.list_blobs(prefix=prefix)\n",
    "        blob_names.extend([blob.name for blob in blobs])\n",
    "\n",
    "    return blob_names\n",
    "\n",
    "def select_blobs(blob_names):\n",
    "    # Sort blob names by timestamp\n",
    "    blob_names.sort(key=lambda name: name.split('_')[3][1:], reverse=True)  # Extract timestamp after 's'\n",
    "\n",
    "    # Extract band numbers from blob names\n",
    "    band_numbers = [int(name.split('_')[1][-2:]) for name in blob_names]\n",
    "\n",
    "    # Get unique band numbers and sort them\n",
    "    expected_band_order = sorted(set(band_numbers))\n",
    "\n",
    "    # Find the first continuous sequence that matches the expected band order\n",
    "    for i in range(len(blob_names) - len(expected_band_order) + 1):\n",
    "        selected = blob_names[i:i+len(expected_band_order)]\n",
    "        band_order = [int(name.split('_')[1][-2:]) for name in selected]\n",
    "        if band_order == expected_band_order:\n",
    "            break\n",
    "    else:\n",
    "        raise Exception(\"No continuous sequence found that matches the expected band order\")\n",
    "\n",
    "    return selected\n",
    "\n",
    "def get_datasets(blob_names, bucket_name='gcp-public-data-goes-18'):\n",
    "    # Open each blob as an xarray Dataset and store it in the dictionary under the corresponding channel identifier\n",
    "    datasets = {}\n",
    "    for name in blob_names:\n",
    "        channel_id = name.split('_')[1]\n",
    "        f = fs.open(f'{bucket_name}/{name}')\n",
    "        ds = xr.open_dataset(f, engine='h5netcdf')\n",
    "        datasets[channel_id] = ds\n",
    "\n",
    "    return datasets"
   ]
  },
  {
   "cell_type": "code",
   "execution_count": 5,
   "metadata": {},
   "outputs": [
    {
     "data": {
      "text/plain": [
       "['ABI-L2-CMIPC/2023/344/13/OR_ABI-L2-CMIPC-M6C01_G18_s20233441301191_e20233441303563_c20233441304027.nc',\n",
       " 'ABI-L2-CMIPC/2023/344/13/OR_ABI-L2-CMIPC-M6C01_G18_s20233441306191_e20233441308563_c20233441309026.nc',\n",
       " 'ABI-L2-CMIPC/2023/344/13/OR_ABI-L2-CMIPC-M6C01_G18_s20233441311191_e20233441313564_c20233441314074.nc',\n",
       " 'ABI-L2-CMIPC/2023/344/13/OR_ABI-L2-CMIPC-M6C01_G18_s20233441316191_e20233441318565_c20233441319029.nc',\n",
       " 'ABI-L2-CMIPC/2023/344/13/OR_ABI-L2-CMIPC-M6C01_G18_s20233441321191_e20233441323563_c20233441324031.nc',\n",
       " 'ABI-L2-CMIPC/2023/344/13/OR_ABI-L2-CMIPC-M6C01_G18_s20233441326191_e20233441328564_c20233441329034.nc',\n",
       " 'ABI-L2-CMIPC/2023/344/13/OR_ABI-L2-CMIPC-M6C01_G18_s20233441331191_e20233441333563_c20233441334023.nc',\n",
       " 'ABI-L2-CMIPC/2023/344/13/OR_ABI-L2-CMIPC-M6C01_G18_s20233441336191_e20233441338564_c20233441339030.nc',\n",
       " 'ABI-L2-CMIPC/2023/344/13/OR_ABI-L2-CMIPC-M6C01_G18_s20233441341191_e20233441343564_c20233441344028.nc',\n",
       " 'ABI-L2-CMIPC/2023/344/13/OR_ABI-L2-CMIPC-M6C01_G18_s20233441346191_e20233441348564_c20233441349027.nc',\n",
       " 'ABI-L2-CMIPC/2023/344/13/OR_ABI-L2-CMIPC-M6C01_G18_s20233441351191_e20233441353564_c20233441354043.nc',\n",
       " 'ABI-L2-CMIPC/2023/344/13/OR_ABI-L2-CMIPC-M6C01_G18_s20233441356191_e20233441358564_c20233441359028.nc',\n",
       " 'ABI-L2-CMIPC/2023/344/13/OR_ABI-L2-CMIPC-M6C02_G18_s20233441301191_e20233441303563_c20233441304039.nc',\n",
       " 'ABI-L2-CMIPC/2023/344/13/OR_ABI-L2-CMIPC-M6C02_G18_s20233441306191_e20233441308564_c20233441309055.nc',\n",
       " 'ABI-L2-CMIPC/2023/344/13/OR_ABI-L2-CMIPC-M6C02_G18_s20233441311191_e20233441313564_c20233441314057.nc',\n",
       " 'ABI-L2-CMIPC/2023/344/13/OR_ABI-L2-CMIPC-M6C02_G18_s20233441316191_e20233441318564_c20233441319042.nc',\n",
       " 'ABI-L2-CMIPC/2023/344/13/OR_ABI-L2-CMIPC-M6C02_G18_s20233441321191_e20233441323564_c20233441324044.nc',\n",
       " 'ABI-L2-CMIPC/2023/344/13/OR_ABI-L2-CMIPC-M6C02_G18_s20233441326191_e20233441328564_c20233441329067.nc',\n",
       " 'ABI-L2-CMIPC/2023/344/13/OR_ABI-L2-CMIPC-M6C02_G18_s20233441331191_e20233441333563_c20233441334052.nc',\n",
       " 'ABI-L2-CMIPC/2023/344/13/OR_ABI-L2-CMIPC-M6C02_G18_s20233441336191_e20233441338563_c20233441339061.nc',\n",
       " 'ABI-L2-CMIPC/2023/344/13/OR_ABI-L2-CMIPC-M6C02_G18_s20233441341191_e20233441343564_c20233441344048.nc',\n",
       " 'ABI-L2-CMIPC/2023/344/13/OR_ABI-L2-CMIPC-M6C02_G18_s20233441346191_e20233441348564_c20233441349045.nc',\n",
       " 'ABI-L2-CMIPC/2023/344/13/OR_ABI-L2-CMIPC-M6C02_G18_s20233441351191_e20233441353564_c20233441354046.nc',\n",
       " 'ABI-L2-CMIPC/2023/344/13/OR_ABI-L2-CMIPC-M6C02_G18_s20233441356191_e20233441358564_c20233441359049.nc',\n",
       " 'ABI-L2-CMIPC/2023/344/13/OR_ABI-L2-CMIPC-M6C03_G18_s20233441301191_e20233441303563_c20233441304027.nc',\n",
       " 'ABI-L2-CMIPC/2023/344/13/OR_ABI-L2-CMIPC-M6C03_G18_s20233441306191_e20233441308564_c20233441309026.nc',\n",
       " 'ABI-L2-CMIPC/2023/344/13/OR_ABI-L2-CMIPC-M6C03_G18_s20233441311191_e20233441313564_c20233441314032.nc',\n",
       " 'ABI-L2-CMIPC/2023/344/13/OR_ABI-L2-CMIPC-M6C03_G18_s20233441316191_e20233441318563_c20233441319024.nc',\n",
       " 'ABI-L2-CMIPC/2023/344/13/OR_ABI-L2-CMIPC-M6C03_G18_s20233441321191_e20233441323564_c20233441324031.nc',\n",
       " 'ABI-L2-CMIPC/2023/344/13/OR_ABI-L2-CMIPC-M6C03_G18_s20233441326191_e20233441328564_c20233441329027.nc',\n",
       " 'ABI-L2-CMIPC/2023/344/13/OR_ABI-L2-CMIPC-M6C03_G18_s20233441331191_e20233441333564_c20233441334030.nc',\n",
       " 'ABI-L2-CMIPC/2023/344/13/OR_ABI-L2-CMIPC-M6C03_G18_s20233441336191_e20233441338566_c20233441339030.nc',\n",
       " 'ABI-L2-CMIPC/2023/344/13/OR_ABI-L2-CMIPC-M6C03_G18_s20233441341191_e20233441343564_c20233441344029.nc',\n",
       " 'ABI-L2-CMIPC/2023/344/13/OR_ABI-L2-CMIPC-M6C03_G18_s20233441346191_e20233441348564_c20233441349078.nc',\n",
       " 'ABI-L2-CMIPC/2023/344/13/OR_ABI-L2-CMIPC-M6C03_G18_s20233441351191_e20233441353564_c20233441354028.nc',\n",
       " 'ABI-L2-CMIPC/2023/344/13/OR_ABI-L2-CMIPC-M6C03_G18_s20233441356191_e20233441358564_c20233441359056.nc',\n",
       " 'ABI-L2-CMIPC/2023/344/13/OR_ABI-L2-CMIPC-M6C04_G18_s20233441301191_e20233441303564_c20233441304017.nc',\n",
       " 'ABI-L2-CMIPC/2023/344/13/OR_ABI-L2-CMIPC-M6C04_G18_s20233441306191_e20233441308563_c20233441309044.nc',\n",
       " 'ABI-L2-CMIPC/2023/344/13/OR_ABI-L2-CMIPC-M6C04_G18_s20233441311191_e20233441313564_c20233441314044.nc',\n",
       " 'ABI-L2-CMIPC/2023/344/13/OR_ABI-L2-CMIPC-M6C04_G18_s20233441316191_e20233441318563_c20233441319022.nc',\n",
       " 'ABI-L2-CMIPC/2023/344/13/OR_ABI-L2-CMIPC-M6C04_G18_s20233441321191_e20233441323564_c20233441324015.nc',\n",
       " 'ABI-L2-CMIPC/2023/344/13/OR_ABI-L2-CMIPC-M6C04_G18_s20233441326191_e20233441328564_c20233441329017.nc',\n",
       " 'ABI-L2-CMIPC/2023/344/13/OR_ABI-L2-CMIPC-M6C04_G18_s20233441331191_e20233441333564_c20233441334020.nc',\n",
       " 'ABI-L2-CMIPC/2023/344/13/OR_ABI-L2-CMIPC-M6C04_G18_s20233441336191_e20233441338563_c20233441339039.nc',\n",
       " 'ABI-L2-CMIPC/2023/344/13/OR_ABI-L2-CMIPC-M6C04_G18_s20233441341191_e20233441343564_c20233441344017.nc',\n",
       " 'ABI-L2-CMIPC/2023/344/13/OR_ABI-L2-CMIPC-M6C04_G18_s20233441346191_e20233441348564_c20233441349027.nc',\n",
       " 'ABI-L2-CMIPC/2023/344/13/OR_ABI-L2-CMIPC-M6C04_G18_s20233441351191_e20233441353564_c20233441354018.nc',\n",
       " 'ABI-L2-CMIPC/2023/344/13/OR_ABI-L2-CMIPC-M6C04_G18_s20233441356191_e20233441358564_c20233441359025.nc',\n",
       " 'ABI-L2-CMIPC/2023/344/13/OR_ABI-L2-CMIPC-M6C05_G18_s20233441301191_e20233441303563_c20233441304027.nc',\n",
       " 'ABI-L2-CMIPC/2023/344/13/OR_ABI-L2-CMIPC-M6C05_G18_s20233441306191_e20233441308564_c20233441309044.nc',\n",
       " 'ABI-L2-CMIPC/2023/344/13/OR_ABI-L2-CMIPC-M6C05_G18_s20233441311191_e20233441313564_c20233441314032.nc',\n",
       " 'ABI-L2-CMIPC/2023/344/13/OR_ABI-L2-CMIPC-M6C05_G18_s20233441316191_e20233441318563_c20233441319031.nc',\n",
       " 'ABI-L2-CMIPC/2023/344/13/OR_ABI-L2-CMIPC-M6C05_G18_s20233441321191_e20233441323564_c20233441324026.nc',\n",
       " 'ABI-L2-CMIPC/2023/344/13/OR_ABI-L2-CMIPC-M6C05_G18_s20233441326191_e20233441328564_c20233441329029.nc',\n",
       " 'ABI-L2-CMIPC/2023/344/13/OR_ABI-L2-CMIPC-M6C05_G18_s20233441331191_e20233441333564_c20233441334030.nc',\n",
       " 'ABI-L2-CMIPC/2023/344/13/OR_ABI-L2-CMIPC-M6C05_G18_s20233441336191_e20233441338563_c20233441339037.nc',\n",
       " 'ABI-L2-CMIPC/2023/344/13/OR_ABI-L2-CMIPC-M6C05_G18_s20233441341191_e20233441343564_c20233441344039.nc',\n",
       " 'ABI-L2-CMIPC/2023/344/13/OR_ABI-L2-CMIPC-M6C05_G18_s20233441346191_e20233441348564_c20233441349027.nc',\n",
       " 'ABI-L2-CMIPC/2023/344/13/OR_ABI-L2-CMIPC-M6C05_G18_s20233441351191_e20233441353564_c20233441354029.nc',\n",
       " 'ABI-L2-CMIPC/2023/344/13/OR_ABI-L2-CMIPC-M6C05_G18_s20233441356191_e20233441358564_c20233441359031.nc',\n",
       " 'ABI-L2-CMIPC/2023/344/13/OR_ABI-L2-CMIPC-M6C06_G18_s20233441301191_e20233441303570_c20233441304027.nc',\n",
       " 'ABI-L2-CMIPC/2023/344/13/OR_ABI-L2-CMIPC-M6C06_G18_s20233441306191_e20233441308569_c20233441309064.nc',\n",
       " 'ABI-L2-CMIPC/2023/344/13/OR_ABI-L2-CMIPC-M6C06_G18_s20233441311191_e20233441313570_c20233441314074.nc',\n",
       " 'ABI-L2-CMIPC/2023/344/13/OR_ABI-L2-CMIPC-M6C06_G18_s20233441316191_e20233441318569_c20233441319032.nc',\n",
       " 'ABI-L2-CMIPC/2023/344/13/OR_ABI-L2-CMIPC-M6C06_G18_s20233441321191_e20233441323569_c20233441324040.nc',\n",
       " 'ABI-L2-CMIPC/2023/344/13/OR_ABI-L2-CMIPC-M6C06_G18_s20233441326191_e20233441328569_c20233441329033.nc',\n",
       " 'ABI-L2-CMIPC/2023/344/13/OR_ABI-L2-CMIPC-M6C06_G18_s20233441331191_e20233441333569_c20233441334030.nc',\n",
       " 'ABI-L2-CMIPC/2023/344/13/OR_ABI-L2-CMIPC-M6C06_G18_s20233441336191_e20233441338569_c20233441339049.nc',\n",
       " 'ABI-L2-CMIPC/2023/344/13/OR_ABI-L2-CMIPC-M6C06_G18_s20233441341191_e20233441343569_c20233441344058.nc',\n",
       " 'ABI-L2-CMIPC/2023/344/13/OR_ABI-L2-CMIPC-M6C06_G18_s20233441346191_e20233441348570_c20233441349038.nc',\n",
       " 'ABI-L2-CMIPC/2023/344/13/OR_ABI-L2-CMIPC-M6C06_G18_s20233441351191_e20233441353570_c20233441354063.nc',\n",
       " 'ABI-L2-CMIPC/2023/344/13/OR_ABI-L2-CMIPC-M6C06_G18_s20233441356191_e20233441358569_c20233441359025.nc',\n",
       " 'ABI-L2-CMIPC/2023/344/13/OR_ABI-L2-CMIPC-M6C07_G18_s20233441301191_e20233441303575_c20233441304082.nc',\n",
       " 'ABI-L2-CMIPC/2023/344/13/OR_ABI-L2-CMIPC-M6C07_G18_s20233441306191_e20233441308575_c20233441309067.nc',\n",
       " 'ABI-L2-CMIPC/2023/344/13/OR_ABI-L2-CMIPC-M6C07_G18_s20233441311191_e20233441313575_c20233441314049.nc',\n",
       " 'ABI-L2-CMIPC/2023/344/13/OR_ABI-L2-CMIPC-M6C07_G18_s20233441316191_e20233441318575_c20233441319066.nc',\n",
       " 'ABI-L2-CMIPC/2023/344/13/OR_ABI-L2-CMIPC-M6C07_G18_s20233441321191_e20233441323575_c20233441324047.nc',\n",
       " 'ABI-L2-CMIPC/2023/344/13/OR_ABI-L2-CMIPC-M6C07_G18_s20233441326191_e20233441328575_c20233441329065.nc',\n",
       " 'ABI-L2-CMIPC/2023/344/13/OR_ABI-L2-CMIPC-M6C07_G18_s20233441331191_e20233441333575_c20233441334057.nc',\n",
       " 'ABI-L2-CMIPC/2023/344/13/OR_ABI-L2-CMIPC-M6C07_G18_s20233441336191_e20233441338575_c20233441339055.nc',\n",
       " 'ABI-L2-CMIPC/2023/344/13/OR_ABI-L2-CMIPC-M6C07_G18_s20233441341191_e20233441343576_c20233441344035.nc',\n",
       " 'ABI-L2-CMIPC/2023/344/13/OR_ABI-L2-CMIPC-M6C07_G18_s20233441346191_e20233441348576_c20233441349035.nc',\n",
       " 'ABI-L2-CMIPC/2023/344/13/OR_ABI-L2-CMIPC-M6C07_G18_s20233441351191_e20233441353576_c20233441354078.nc',\n",
       " 'ABI-L2-CMIPC/2023/344/13/OR_ABI-L2-CMIPC-M6C07_G18_s20233441356191_e20233441358575_c20233441359071.nc',\n",
       " 'ABI-L2-CMIPC/2023/344/13/OR_ABI-L2-CMIPC-M6C08_G18_s20233441301191_e20233441303563_c20233441304062.nc',\n",
       " 'ABI-L2-CMIPC/2023/344/13/OR_ABI-L2-CMIPC-M6C08_G18_s20233441306191_e20233441308564_c20233441309057.nc',\n",
       " 'ABI-L2-CMIPC/2023/344/13/OR_ABI-L2-CMIPC-M6C08_G18_s20233441311191_e20233441313564_c20233441314069.nc',\n",
       " 'ABI-L2-CMIPC/2023/344/13/OR_ABI-L2-CMIPC-M6C08_G18_s20233441316191_e20233441318564_c20233441319046.nc',\n",
       " 'ABI-L2-CMIPC/2023/344/13/OR_ABI-L2-CMIPC-M6C08_G18_s20233441321191_e20233441323563_c20233441324078.nc',\n",
       " 'ABI-L2-CMIPC/2023/344/13/OR_ABI-L2-CMIPC-M6C08_G18_s20233441326191_e20233441328564_c20233441329077.nc',\n",
       " 'ABI-L2-CMIPC/2023/344/13/OR_ABI-L2-CMIPC-M6C08_G18_s20233441331191_e20233441333564_c20233441334047.nc',\n",
       " 'ABI-L2-CMIPC/2023/344/13/OR_ABI-L2-CMIPC-M6C08_G18_s20233441336191_e20233441338563_c20233441339035.nc',\n",
       " 'ABI-L2-CMIPC/2023/344/13/OR_ABI-L2-CMIPC-M6C08_G18_s20233441341191_e20233441343564_c20233441344075.nc',\n",
       " 'ABI-L2-CMIPC/2023/344/13/OR_ABI-L2-CMIPC-M6C08_G18_s20233441346191_e20233441348564_c20233441349055.nc',\n",
       " 'ABI-L2-CMIPC/2023/344/13/OR_ABI-L2-CMIPC-M6C08_G18_s20233441351191_e20233441353564_c20233441354047.nc',\n",
       " 'ABI-L2-CMIPC/2023/344/13/OR_ABI-L2-CMIPC-M6C08_G18_s20233441356191_e20233441358564_c20233441359050.nc',\n",
       " 'ABI-L2-CMIPC/2023/344/13/OR_ABI-L2-CMIPC-M6C09_G18_s20233441301191_e20233441303569_c20233441304077.nc',\n",
       " 'ABI-L2-CMIPC/2023/344/13/OR_ABI-L2-CMIPC-M6C09_G18_s20233441306191_e20233441308569_c20233441309074.nc',\n",
       " 'ABI-L2-CMIPC/2023/344/13/OR_ABI-L2-CMIPC-M6C09_G18_s20233441311191_e20233441313570_c20233441314033.nc',\n",
       " 'ABI-L2-CMIPC/2023/344/13/OR_ABI-L2-CMIPC-M6C09_G18_s20233441316191_e20233441318570_c20233441319043.nc',\n",
       " 'ABI-L2-CMIPC/2023/344/13/OR_ABI-L2-CMIPC-M6C09_G18_s20233441321191_e20233441323570_c20233441324050.nc',\n",
       " 'ABI-L2-CMIPC/2023/344/13/OR_ABI-L2-CMIPC-M6C09_G18_s20233441326191_e20233441328569_c20233441329043.nc',\n",
       " 'ABI-L2-CMIPC/2023/344/13/OR_ABI-L2-CMIPC-M6C09_G18_s20233441331191_e20233441333569_c20233441334070.nc',\n",
       " 'ABI-L2-CMIPC/2023/344/13/OR_ABI-L2-CMIPC-M6C09_G18_s20233441336191_e20233441338570_c20233441339069.nc',\n",
       " 'ABI-L2-CMIPC/2023/344/13/OR_ABI-L2-CMIPC-M6C09_G18_s20233441341191_e20233441343569_c20233441344048.nc',\n",
       " 'ABI-L2-CMIPC/2023/344/13/OR_ABI-L2-CMIPC-M6C09_G18_s20233441346191_e20233441348569_c20233441349068.nc',\n",
       " 'ABI-L2-CMIPC/2023/344/13/OR_ABI-L2-CMIPC-M6C09_G18_s20233441351191_e20233441353569_c20233441354073.nc',\n",
       " 'ABI-L2-CMIPC/2023/344/13/OR_ABI-L2-CMIPC-M6C09_G18_s20233441356191_e20233441358569_c20233441359036.nc',\n",
       " 'ABI-L2-CMIPC/2023/344/13/OR_ABI-L2-CMIPC-M6C10_G18_s20233441301191_e20233441303575_c20233441304072.nc',\n",
       " 'ABI-L2-CMIPC/2023/344/13/OR_ABI-L2-CMIPC-M6C10_G18_s20233441306191_e20233441308576_c20233441309025.nc',\n",
       " 'ABI-L2-CMIPC/2023/344/13/OR_ABI-L2-CMIPC-M6C10_G18_s20233441311191_e20233441313576_c20233441314051.nc',\n",
       " 'ABI-L2-CMIPC/2023/344/13/OR_ABI-L2-CMIPC-M6C10_G18_s20233441316191_e20233441318576_c20233441319066.nc',\n",
       " 'ABI-L2-CMIPC/2023/344/13/OR_ABI-L2-CMIPC-M6C10_G18_s20233441321191_e20233441323576_c20233441324088.nc',\n",
       " 'ABI-L2-CMIPC/2023/344/13/OR_ABI-L2-CMIPC-M6C10_G18_s20233441326191_e20233441328575_c20233441329065.nc',\n",
       " 'ABI-L2-CMIPC/2023/344/13/OR_ABI-L2-CMIPC-M6C10_G18_s20233441331191_e20233441333575_c20233441334068.nc',\n",
       " 'ABI-L2-CMIPC/2023/344/13/OR_ABI-L2-CMIPC-M6C10_G18_s20233441336191_e20233441338576_c20233441339045.nc',\n",
       " 'ABI-L2-CMIPC/2023/344/13/OR_ABI-L2-CMIPC-M6C10_G18_s20233441341191_e20233441343577_c20233441344069.nc',\n",
       " 'ABI-L2-CMIPC/2023/344/13/OR_ABI-L2-CMIPC-M6C10_G18_s20233441346191_e20233441348575_c20233441349076.nc',\n",
       " 'ABI-L2-CMIPC/2023/344/13/OR_ABI-L2-CMIPC-M6C10_G18_s20233441351191_e20233441353575_c20233441354057.nc',\n",
       " 'ABI-L2-CMIPC/2023/344/13/OR_ABI-L2-CMIPC-M6C10_G18_s20233441356191_e20233441358575_c20233441359071.nc',\n",
       " 'ABI-L2-CMIPC/2023/344/13/OR_ABI-L2-CMIPC-M6C11_G18_s20233441301191_e20233441303564_c20233441304047.nc',\n",
       " 'ABI-L2-CMIPC/2023/344/13/OR_ABI-L2-CMIPC-M6C11_G18_s20233441306191_e20233441308564_c20233441309054.nc',\n",
       " 'ABI-L2-CMIPC/2023/344/13/OR_ABI-L2-CMIPC-M6C11_G18_s20233441311191_e20233441313564_c20233441314053.nc',\n",
       " 'ABI-L2-CMIPC/2023/344/13/OR_ABI-L2-CMIPC-M6C11_G18_s20233441316191_e20233441318564_c20233441319032.nc',\n",
       " 'ABI-L2-CMIPC/2023/344/13/OR_ABI-L2-CMIPC-M6C11_G18_s20233441321191_e20233441323563_c20233441324060.nc',\n",
       " 'ABI-L2-CMIPC/2023/344/13/OR_ABI-L2-CMIPC-M6C11_G18_s20233441326191_e20233441328564_c20233441329033.nc',\n",
       " 'ABI-L2-CMIPC/2023/344/13/OR_ABI-L2-CMIPC-M6C11_G18_s20233441331191_e20233441333564_c20233441334040.nc',\n",
       " 'ABI-L2-CMIPC/2023/344/13/OR_ABI-L2-CMIPC-M6C11_G18_s20233441336191_e20233441338564_c20233441339069.nc',\n",
       " 'ABI-L2-CMIPC/2023/344/13/OR_ABI-L2-CMIPC-M6C11_G18_s20233441341191_e20233441343564_c20233441344048.nc',\n",
       " 'ABI-L2-CMIPC/2023/344/13/OR_ABI-L2-CMIPC-M6C11_G18_s20233441346191_e20233441348564_c20233441349058.nc',\n",
       " 'ABI-L2-CMIPC/2023/344/13/OR_ABI-L2-CMIPC-M6C11_G18_s20233441351191_e20233441353564_c20233441354093.nc',\n",
       " 'ABI-L2-CMIPC/2023/344/13/OR_ABI-L2-CMIPC-M6C11_G18_s20233441356191_e20233441358564_c20233441359046.nc',\n",
       " 'ABI-L2-CMIPC/2023/344/13/OR_ABI-L2-CMIPC-M6C12_G18_s20233441301191_e20233441303570_c20233441304037.nc',\n",
       " 'ABI-L2-CMIPC/2023/344/13/OR_ABI-L2-CMIPC-M6C12_G18_s20233441306191_e20233441308569_c20233441309044.nc',\n",
       " 'ABI-L2-CMIPC/2023/344/13/OR_ABI-L2-CMIPC-M6C12_G18_s20233441311191_e20233441313569_c20233441314033.nc',\n",
       " 'ABI-L2-CMIPC/2023/344/13/OR_ABI-L2-CMIPC-M6C12_G18_s20233441316191_e20233441318569_c20233441319073.nc',\n",
       " 'ABI-L2-CMIPC/2023/344/13/OR_ABI-L2-CMIPC-M6C12_G18_s20233441321191_e20233441323569_c20233441324070.nc',\n",
       " 'ABI-L2-CMIPC/2023/344/13/OR_ABI-L2-CMIPC-M6C12_G18_s20233441326191_e20233441328570_c20233441329084.nc',\n",
       " 'ABI-L2-CMIPC/2023/344/13/OR_ABI-L2-CMIPC-M6C12_G18_s20233441331191_e20233441333569_c20233441334071.nc',\n",
       " 'ABI-L2-CMIPC/2023/344/13/OR_ABI-L2-CMIPC-M6C12_G18_s20233441336191_e20233441338570_c20233441339049.nc',\n",
       " 'ABI-L2-CMIPC/2023/344/13/OR_ABI-L2-CMIPC-M6C12_G18_s20233441341191_e20233441343569_c20233441344040.nc',\n",
       " 'ABI-L2-CMIPC/2023/344/13/OR_ABI-L2-CMIPC-M6C12_G18_s20233441346191_e20233441348569_c20233441349068.nc',\n",
       " 'ABI-L2-CMIPC/2023/344/13/OR_ABI-L2-CMIPC-M6C12_G18_s20233441351191_e20233441353569_c20233441354033.nc',\n",
       " 'ABI-L2-CMIPC/2023/344/13/OR_ABI-L2-CMIPC-M6C12_G18_s20233441356191_e20233441358569_c20233441359036.nc',\n",
       " 'ABI-L2-CMIPC/2023/344/13/OR_ABI-L2-CMIPC-M6C13_G18_s20233441301191_e20233441303575_c20233441304088.nc',\n",
       " 'ABI-L2-CMIPC/2023/344/13/OR_ABI-L2-CMIPC-M6C13_G18_s20233441306191_e20233441308575_c20233441309084.nc',\n",
       " 'ABI-L2-CMIPC/2023/344/13/OR_ABI-L2-CMIPC-M6C13_G18_s20233441311191_e20233441313575_c20233441314094.nc',\n",
       " 'ABI-L2-CMIPC/2023/344/13/OR_ABI-L2-CMIPC-M6C13_G18_s20233441316191_e20233441318575_c20233441319073.nc',\n",
       " 'ABI-L2-CMIPC/2023/344/13/OR_ABI-L2-CMIPC-M6C13_G18_s20233441321191_e20233441323576_c20233441324093.nc',\n",
       " 'ABI-L2-CMIPC/2023/344/13/OR_ABI-L2-CMIPC-M6C13_G18_s20233441326191_e20233441328575_c20233441329074.nc',\n",
       " 'ABI-L2-CMIPC/2023/344/13/OR_ABI-L2-CMIPC-M6C13_G18_s20233441331191_e20233441333575_c20233441334081.nc',\n",
       " 'ABI-L2-CMIPC/2023/344/13/OR_ABI-L2-CMIPC-M6C13_G18_s20233441336191_e20233441338576_c20233441339079.nc',\n",
       " 'ABI-L2-CMIPC/2023/344/13/OR_ABI-L2-CMIPC-M6C13_G18_s20233441341191_e20233441343575_c20233441344068.nc',\n",
       " 'ABI-L2-CMIPC/2023/344/13/OR_ABI-L2-CMIPC-M6C13_G18_s20233441346191_e20233441348575_c20233441349038.nc',\n",
       " 'ABI-L2-CMIPC/2023/344/13/OR_ABI-L2-CMIPC-M6C13_G18_s20233441351191_e20233441353575_c20233441354083.nc',\n",
       " 'ABI-L2-CMIPC/2023/344/13/OR_ABI-L2-CMIPC-M6C13_G18_s20233441356191_e20233441358575_c20233441359077.nc',\n",
       " 'ABI-L2-CMIPC/2023/344/13/OR_ABI-L2-CMIPC-M6C14_G18_s20233441301191_e20233441303564_c20233441304062.nc',\n",
       " 'ABI-L2-CMIPC/2023/344/13/OR_ABI-L2-CMIPC-M6C14_G18_s20233441306191_e20233441308564_c20233441309035.nc',\n",
       " 'ABI-L2-CMIPC/2023/344/13/OR_ABI-L2-CMIPC-M6C14_G18_s20233441311191_e20233441313564_c20233441314059.nc',\n",
       " 'ABI-L2-CMIPC/2023/344/13/OR_ABI-L2-CMIPC-M6C14_G18_s20233441316191_e20233441318564_c20233441319045.nc',\n",
       " 'ABI-L2-CMIPC/2023/344/13/OR_ABI-L2-CMIPC-M6C14_G18_s20233441321191_e20233441323564_c20233441324078.nc',\n",
       " 'ABI-L2-CMIPC/2023/344/13/OR_ABI-L2-CMIPC-M6C14_G18_s20233441326191_e20233441328564_c20233441329047.nc',\n",
       " 'ABI-L2-CMIPC/2023/344/13/OR_ABI-L2-CMIPC-M6C14_G18_s20233441331191_e20233441333564_c20233441334057.nc',\n",
       " 'ABI-L2-CMIPC/2023/344/13/OR_ABI-L2-CMIPC-M6C14_G18_s20233441336191_e20233441338564_c20233441339076.nc',\n",
       " 'ABI-L2-CMIPC/2023/344/13/OR_ABI-L2-CMIPC-M6C14_G18_s20233441341191_e20233441343564_c20233441344079.nc',\n",
       " 'ABI-L2-CMIPC/2023/344/13/OR_ABI-L2-CMIPC-M6C14_G18_s20233441346191_e20233441348564_c20233441349075.nc',\n",
       " 'ABI-L2-CMIPC/2023/344/13/OR_ABI-L2-CMIPC-M6C14_G18_s20233441351191_e20233441353564_c20233441354068.nc',\n",
       " 'ABI-L2-CMIPC/2023/344/13/OR_ABI-L2-CMIPC-M6C14_G18_s20233441356191_e20233441358564_c20233441359061.nc',\n",
       " 'ABI-L2-CMIPC/2023/344/13/OR_ABI-L2-CMIPC-M6C15_G18_s20233441301191_e20233441303569_c20233441304042.nc',\n",
       " 'ABI-L2-CMIPC/2023/344/13/OR_ABI-L2-CMIPC-M6C15_G18_s20233441306191_e20233441308569_c20233441309077.nc',\n",
       " 'ABI-L2-CMIPC/2023/344/13/OR_ABI-L2-CMIPC-M6C15_G18_s20233441311191_e20233441313570_c20233441314079.nc',\n",
       " 'ABI-L2-CMIPC/2023/344/13/OR_ABI-L2-CMIPC-M6C15_G18_s20233441316191_e20233441318569_c20233441319056.nc',\n",
       " 'ABI-L2-CMIPC/2023/344/13/OR_ABI-L2-CMIPC-M6C15_G18_s20233441321191_e20233441323570_c20233441324057.nc',\n",
       " 'ABI-L2-CMIPC/2023/344/13/OR_ABI-L2-CMIPC-M6C15_G18_s20233441326191_e20233441328569_c20233441329055.nc',\n",
       " 'ABI-L2-CMIPC/2023/344/13/OR_ABI-L2-CMIPC-M6C15_G18_s20233441331191_e20233441333570_c20233441334047.nc',\n",
       " 'ABI-L2-CMIPC/2023/344/13/OR_ABI-L2-CMIPC-M6C15_G18_s20233441336191_e20233441338570_c20233441339066.nc',\n",
       " 'ABI-L2-CMIPC/2023/344/13/OR_ABI-L2-CMIPC-M6C15_G18_s20233441341191_e20233441343570_c20233441344086.nc',\n",
       " 'ABI-L2-CMIPC/2023/344/13/OR_ABI-L2-CMIPC-M6C15_G18_s20233441346191_e20233441348570_c20233441349045.nc',\n",
       " 'ABI-L2-CMIPC/2023/344/13/OR_ABI-L2-CMIPC-M6C15_G18_s20233441351191_e20233441353570_c20233441354088.nc',\n",
       " 'ABI-L2-CMIPC/2023/344/13/OR_ABI-L2-CMIPC-M6C15_G18_s20233441356191_e20233441358570_c20233441359081.nc',\n",
       " 'ABI-L2-CMIPC/2023/344/13/OR_ABI-L2-CMIPC-M6C16_G18_s20233441301191_e20233441303576_c20233441304052.nc',\n",
       " 'ABI-L2-CMIPC/2023/344/13/OR_ABI-L2-CMIPC-M6C16_G18_s20233441306191_e20233441308576_c20233441309036.nc',\n",
       " 'ABI-L2-CMIPC/2023/344/13/OR_ABI-L2-CMIPC-M6C16_G18_s20233441311191_e20233441313576_c20233441314089.nc',\n",
       " 'ABI-L2-CMIPC/2023/344/13/OR_ABI-L2-CMIPC-M6C16_G18_s20233441316191_e20233441318575_c20233441319066.nc',\n",
       " 'ABI-L2-CMIPC/2023/344/13/OR_ABI-L2-CMIPC-M6C16_G18_s20233441321191_e20233441323576_c20233441324098.nc',\n",
       " 'ABI-L2-CMIPC/2023/344/13/OR_ABI-L2-CMIPC-M6C16_G18_s20233441326191_e20233441328575_c20233441329076.nc',\n",
       " 'ABI-L2-CMIPC/2023/344/13/OR_ABI-L2-CMIPC-M6C16_G18_s20233441331191_e20233441333576_c20233441334088.nc',\n",
       " 'ABI-L2-CMIPC/2023/344/13/OR_ABI-L2-CMIPC-M6C16_G18_s20233441336191_e20233441338576_c20233441339055.nc',\n",
       " 'ABI-L2-CMIPC/2023/344/13/OR_ABI-L2-CMIPC-M6C16_G18_s20233441341191_e20233441343576_c20233441344055.nc',\n",
       " 'ABI-L2-CMIPC/2023/344/13/OR_ABI-L2-CMIPC-M6C16_G18_s20233441346191_e20233441348576_c20233441349056.nc',\n",
       " 'ABI-L2-CMIPC/2023/344/13/OR_ABI-L2-CMIPC-M6C16_G18_s20233441351191_e20233441353576_c20233441354027.nc',\n",
       " 'ABI-L2-CMIPC/2023/344/13/OR_ABI-L2-CMIPC-M6C16_G18_s20233441356191_e20233441358576_c20233441359040.nc',\n",
       " 'ABI-L2-CMIPC/2023/344/14/OR_ABI-L2-CMIPC-M6C01_G18_s20233441401191_e20233441403564_c20233441404023.nc',\n",
       " 'ABI-L2-CMIPC/2023/344/14/OR_ABI-L2-CMIPC-M6C01_G18_s20233441406191_e20233441408564_c20233441409030.nc',\n",
       " 'ABI-L2-CMIPC/2023/344/14/OR_ABI-L2-CMIPC-M6C01_G18_s20233441411191_e20233441413564_c20233441414033.nc',\n",
       " 'ABI-L2-CMIPC/2023/344/14/OR_ABI-L2-CMIPC-M6C02_G18_s20233441401191_e20233441403564_c20233441404059.nc',\n",
       " 'ABI-L2-CMIPC/2023/344/14/OR_ABI-L2-CMIPC-M6C02_G18_s20233441406191_e20233441408564_c20233441409048.nc',\n",
       " 'ABI-L2-CMIPC/2023/344/14/OR_ABI-L2-CMIPC-M6C02_G18_s20233441411191_e20233441413564_c20233441414042.nc',\n",
       " 'ABI-L2-CMIPC/2023/344/14/OR_ABI-L2-CMIPC-M6C03_G18_s20233441401191_e20233441403564_c20233441404023.nc',\n",
       " 'ABI-L2-CMIPC/2023/344/14/OR_ABI-L2-CMIPC-M6C03_G18_s20233441406191_e20233441408564_c20233441409030.nc',\n",
       " 'ABI-L2-CMIPC/2023/344/14/OR_ABI-L2-CMIPC-M6C03_G18_s20233441411191_e20233441413564_c20233441414023.nc',\n",
       " 'ABI-L2-CMIPC/2023/344/14/OR_ABI-L2-CMIPC-M6C04_G18_s20233441401191_e20233441403564_c20233441404028.nc',\n",
       " 'ABI-L2-CMIPC/2023/344/14/OR_ABI-L2-CMIPC-M6C04_G18_s20233441406191_e20233441408564_c20233441409031.nc',\n",
       " 'ABI-L2-CMIPC/2023/344/14/OR_ABI-L2-CMIPC-M6C04_G18_s20233441411191_e20233441413564_c20233441414022.nc',\n",
       " 'ABI-L2-CMIPC/2023/344/14/OR_ABI-L2-CMIPC-M6C05_G18_s20233441401191_e20233441403564_c20233441404031.nc',\n",
       " 'ABI-L2-CMIPC/2023/344/14/OR_ABI-L2-CMIPC-M6C05_G18_s20233441406191_e20233441408564_c20233441409031.nc',\n",
       " 'ABI-L2-CMIPC/2023/344/14/OR_ABI-L2-CMIPC-M6C05_G18_s20233441411191_e20233441413564_c20233441414032.nc',\n",
       " 'ABI-L2-CMIPC/2023/344/14/OR_ABI-L2-CMIPC-M6C06_G18_s20233441401191_e20233441403569_c20233441404038.nc',\n",
       " 'ABI-L2-CMIPC/2023/344/14/OR_ABI-L2-CMIPC-M6C06_G18_s20233441406191_e20233441408570_c20233441409031.nc',\n",
       " 'ABI-L2-CMIPC/2023/344/14/OR_ABI-L2-CMIPC-M6C06_G18_s20233441411191_e20233441413569_c20233441414043.nc',\n",
       " 'ABI-L2-CMIPC/2023/344/14/OR_ABI-L2-CMIPC-M6C07_G18_s20233441401191_e20233441403575_c20233441404050.nc',\n",
       " 'ABI-L2-CMIPC/2023/344/14/OR_ABI-L2-CMIPC-M6C07_G18_s20233441406191_e20233441408575_c20233441409063.nc',\n",
       " 'ABI-L2-CMIPC/2023/344/14/OR_ABI-L2-CMIPC-M6C07_G18_s20233441411191_e20233441413576_c20233441414065.nc',\n",
       " 'ABI-L2-CMIPC/2023/344/14/OR_ABI-L2-CMIPC-M6C08_G18_s20233441401191_e20233441403564_c20233441404091.nc',\n",
       " 'ABI-L2-CMIPC/2023/344/14/OR_ABI-L2-CMIPC-M6C08_G18_s20233441406191_e20233441408564_c20233441409073.nc',\n",
       " 'ABI-L2-CMIPC/2023/344/14/OR_ABI-L2-CMIPC-M6C08_G18_s20233441411191_e20233441413564_c20233441414087.nc',\n",
       " 'ABI-L2-CMIPC/2023/344/14/OR_ABI-L2-CMIPC-M6C09_G18_s20233441401191_e20233441403570_c20233441404041.nc',\n",
       " 'ABI-L2-CMIPC/2023/344/14/OR_ABI-L2-CMIPC-M6C09_G18_s20233441406191_e20233441408569_c20233441409041.nc',\n",
       " 'ABI-L2-CMIPC/2023/344/14/OR_ABI-L2-CMIPC-M6C09_G18_s20233441411191_e20233441413570_c20233441414053.nc',\n",
       " 'ABI-L2-CMIPC/2023/344/14/OR_ABI-L2-CMIPC-M6C10_G18_s20233441401191_e20233441403575_c20233441404072.nc',\n",
       " 'ABI-L2-CMIPC/2023/344/14/OR_ABI-L2-CMIPC-M6C10_G18_s20233441406191_e20233441408575_c20233441409043.nc',\n",
       " 'ABI-L2-CMIPC/2023/344/14/OR_ABI-L2-CMIPC-M6C10_G18_s20233441411191_e20233441413576_c20233441414078.nc',\n",
       " 'ABI-L2-CMIPC/2023/344/14/OR_ABI-L2-CMIPC-M6C11_G18_s20233441401191_e20233441403564_c20233441404059.nc',\n",
       " 'ABI-L2-CMIPC/2023/344/14/OR_ABI-L2-CMIPC-M6C11_G18_s20233441406191_e20233441408564_c20233441409073.nc',\n",
       " 'ABI-L2-CMIPC/2023/344/14/OR_ABI-L2-CMIPC-M6C11_G18_s20233441411191_e20233441413564_c20233441414042.nc',\n",
       " 'ABI-L2-CMIPC/2023/344/14/OR_ABI-L2-CMIPC-M6C12_G18_s20233441401191_e20233441403569_c20233441404059.nc',\n",
       " 'ABI-L2-CMIPC/2023/344/14/OR_ABI-L2-CMIPC-M6C12_G18_s20233441406191_e20233441408569_c20233441409052.nc',\n",
       " 'ABI-L2-CMIPC/2023/344/14/OR_ABI-L2-CMIPC-M6C12_G18_s20233441411191_e20233441413569_c20233441414063.nc',\n",
       " 'ABI-L2-CMIPC/2023/344/14/OR_ABI-L2-CMIPC-M6C13_G18_s20233441401191_e20233441403576_c20233441404082.nc',\n",
       " 'ABI-L2-CMIPC/2023/344/14/OR_ABI-L2-CMIPC-M6C13_G18_s20233441406191_e20233441408577_c20233441409084.nc',\n",
       " 'ABI-L2-CMIPC/2023/344/14/OR_ABI-L2-CMIPC-M6C13_G18_s20233441411191_e20233441413575_c20233441414073.nc',\n",
       " 'ABI-L2-CMIPC/2023/344/14/OR_ABI-L2-CMIPC-M6C14_G18_s20233441401191_e20233441403564_c20233441404072.nc',\n",
       " 'ABI-L2-CMIPC/2023/344/14/OR_ABI-L2-CMIPC-M6C14_G18_s20233441406191_e20233441408564_c20233441409063.nc',\n",
       " 'ABI-L2-CMIPC/2023/344/14/OR_ABI-L2-CMIPC-M6C14_G18_s20233441411191_e20233441413564_c20233441414087.nc',\n",
       " 'ABI-L2-CMIPC/2023/344/14/OR_ABI-L2-CMIPC-M6C15_G18_s20233441401191_e20233441403570_c20233441404072.nc',\n",
       " 'ABI-L2-CMIPC/2023/344/14/OR_ABI-L2-CMIPC-M6C15_G18_s20233441406191_e20233441408570_c20233441409042.nc',\n",
       " 'ABI-L2-CMIPC/2023/344/14/OR_ABI-L2-CMIPC-M6C15_G18_s20233441411191_e20233441413569_c20233441414077.nc',\n",
       " 'ABI-L2-CMIPC/2023/344/14/OR_ABI-L2-CMIPC-M6C16_G18_s20233441401191_e20233441403576_c20233441404082.nc',\n",
       " 'ABI-L2-CMIPC/2023/344/14/OR_ABI-L2-CMIPC-M6C16_G18_s20233441406191_e20233441408575_c20233441409073.nc',\n",
       " 'ABI-L2-CMIPC/2023/344/14/OR_ABI-L2-CMIPC-M6C16_G18_s20233441411191_e20233441413576_c20233441414097.nc']"
      ]
     },
     "execution_count": 5,
     "metadata": {},
     "output_type": "execute_result"
    }
   ],
   "source": [
    "names = get_blob_names()\n",
    "names"
   ]
  },
  {
   "cell_type": "code",
   "execution_count": 6,
   "metadata": {},
   "outputs": [
    {
     "data": {
      "text/plain": [
       "['ABI-L2-CMIPC/2023/344/14/OR_ABI-L2-CMIPC-M6C01_G18_s20233441411191_e20233441413564_c20233441414033.nc',\n",
       " 'ABI-L2-CMIPC/2023/344/14/OR_ABI-L2-CMIPC-M6C02_G18_s20233441411191_e20233441413564_c20233441414042.nc',\n",
       " 'ABI-L2-CMIPC/2023/344/14/OR_ABI-L2-CMIPC-M6C03_G18_s20233441411191_e20233441413564_c20233441414023.nc',\n",
       " 'ABI-L2-CMIPC/2023/344/14/OR_ABI-L2-CMIPC-M6C04_G18_s20233441411191_e20233441413564_c20233441414022.nc',\n",
       " 'ABI-L2-CMIPC/2023/344/14/OR_ABI-L2-CMIPC-M6C05_G18_s20233441411191_e20233441413564_c20233441414032.nc',\n",
       " 'ABI-L2-CMIPC/2023/344/14/OR_ABI-L2-CMIPC-M6C06_G18_s20233441411191_e20233441413569_c20233441414043.nc',\n",
       " 'ABI-L2-CMIPC/2023/344/14/OR_ABI-L2-CMIPC-M6C07_G18_s20233441411191_e20233441413576_c20233441414065.nc',\n",
       " 'ABI-L2-CMIPC/2023/344/14/OR_ABI-L2-CMIPC-M6C08_G18_s20233441411191_e20233441413564_c20233441414087.nc',\n",
       " 'ABI-L2-CMIPC/2023/344/14/OR_ABI-L2-CMIPC-M6C09_G18_s20233441411191_e20233441413570_c20233441414053.nc',\n",
       " 'ABI-L2-CMIPC/2023/344/14/OR_ABI-L2-CMIPC-M6C10_G18_s20233441411191_e20233441413576_c20233441414078.nc',\n",
       " 'ABI-L2-CMIPC/2023/344/14/OR_ABI-L2-CMIPC-M6C11_G18_s20233441411191_e20233441413564_c20233441414042.nc',\n",
       " 'ABI-L2-CMIPC/2023/344/14/OR_ABI-L2-CMIPC-M6C12_G18_s20233441411191_e20233441413569_c20233441414063.nc',\n",
       " 'ABI-L2-CMIPC/2023/344/14/OR_ABI-L2-CMIPC-M6C13_G18_s20233441411191_e20233441413575_c20233441414073.nc',\n",
       " 'ABI-L2-CMIPC/2023/344/14/OR_ABI-L2-CMIPC-M6C14_G18_s20233441411191_e20233441413564_c20233441414087.nc',\n",
       " 'ABI-L2-CMIPC/2023/344/14/OR_ABI-L2-CMIPC-M6C15_G18_s20233441411191_e20233441413569_c20233441414077.nc',\n",
       " 'ABI-L2-CMIPC/2023/344/14/OR_ABI-L2-CMIPC-M6C16_G18_s20233441411191_e20233441413576_c20233441414097.nc']"
      ]
     },
     "execution_count": 6,
     "metadata": {},
     "output_type": "execute_result"
    }
   ],
   "source": [
    "selected = select_blobs(names)\n",
    "selected"
   ]
  },
  {
   "cell_type": "code",
   "execution_count": 12,
   "metadata": {},
   "outputs": [
    {
     "data": {
      "application/vnd.jupyter.widget-view+json": {
       "model_id": "164cf89477c04e74a25957e1caba513c",
       "version_major": 2,
       "version_minor": 0
      },
      "text/plain": [
       "Processing datasets:   0%|          | 0/16 [00:00<?, ?it/s]"
      ]
     },
     "metadata": {},
     "output_type": "display_data"
    },
    {
     "name": "stdout",
     "output_type": "stream",
     "text": [
      "dict_keys(['ABI-L2-CMIPC-M6C01', 'ABI-L2-CMIPC-M6C02', 'ABI-L2-CMIPC-M6C03', 'ABI-L2-CMIPC-M6C04', 'ABI-L2-CMIPC-M6C05', 'ABI-L2-CMIPC-M6C06', 'ABI-L2-CMIPC-M6C07', 'ABI-L2-CMIPC-M6C08', 'ABI-L2-CMIPC-M6C09', 'ABI-L2-CMIPC-M6C10', 'ABI-L2-CMIPC-M6C11', 'ABI-L2-CMIPC-M6C12', 'ABI-L2-CMIPC-M6C13', 'ABI-L2-CMIPC-M6C14', 'ABI-L2-CMIPC-M6C15', 'ABI-L2-CMIPC-M6C16'])\n",
      "16\n"
     ]
    }
   ],
   "source": [
    "from tqdm.notebook import tqdm\n",
    "# Use fsspec to create a file system\n",
    "fs = fsspec.filesystem('gcs', token=os.environ['GOOGLE_APPLICATION_CREDENTIALS'])\n",
    "\n",
    "ds = get_datasets(tqdm(selected, desc=\"Processing datasets\"))\n",
    "print(ds.keys())\n",
    "print(len(ds.keys()))"
   ]
  },
  {
   "cell_type": "code",
   "execution_count": 18,
   "metadata": {},
   "outputs": [],
   "source": [
    "single = ds['ABI-L2-CMIPC-M6C01']"
   ]
  },
  {
   "cell_type": "code",
   "execution_count": 21,
   "metadata": {},
   "outputs": [],
   "source": [
    "timestamp = single.t.values\n"
   ]
  },
  {
   "cell_type": "code",
   "execution_count": 22,
   "metadata": {},
   "outputs": [
    {
     "data": {
      "text/plain": [
       "numpy.datetime64('2023-12-10T14:12:37.760866944')"
      ]
     },
     "execution_count": 22,
     "metadata": {},
     "output_type": "execute_result"
    }
   ],
   "source": [
    "timestamp"
   ]
  },
  {
   "cell_type": "code",
   "execution_count": 20,
   "metadata": {},
   "outputs": [
    {
     "name": "stdout",
     "output_type": "stream",
     "text": [
      "Count where DQF is 0: 17\n"
     ]
    },
    {
     "data": {
      "image/png": "[encoded data removed]",
      "text/plain": [
       "<Figure size 640x480 with 2 Axes>"
      ]
     },
     "metadata": {},
     "output_type": "display_data"
    }
   ],
   "source": [
    "# Plot 'DQF' where dqf = 0\n",
    "dqf_zero = ds['DQF'] == 0\n",
    "ds['DQF'].where(dqf_zero).plot()\n",
    "print(\"Count where DQF is 0:\", dqf_zero.sum().values)\n",
    "\n"
   ]
  }
 ],
 "metadata": {
  "kernelspec": {
   "display_name": "streamlitenv",
   "language": "python",
   "name": "python3"
  },
  "language_info": {
   "codemirror_mode": {
    "name": "ipython",
    "version": 3
   },
   "file_extension": ".py",
   "mimetype": "text/x-python",
   "name": "python",
   "nbconvert_exporter": "python",
   "pygments_lexer": "ipython3",
   "version": "3.11.0"
  }
 },
 "nbformat": 4,
 "nbformat_minor": 2
}
