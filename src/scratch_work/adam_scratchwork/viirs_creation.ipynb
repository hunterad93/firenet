{
 "cells": [
  {
   "cell_type": "code",
   "execution_count": null,
   "metadata": {},
   "outputs": [],
   "source": [
    "def cluster_fires(gdf, eps=0.01, min_samples=1):\n",
    "    \"\"\"\n",
    "    Given a GeoDataFrame of fire points, create spatial clusters\n",
    "    :param gdf: GeoDataFrame of fire points\n",
    "    :param eps: The maximum distance between two samples for one to be considered as in the neighborhood of the other\n",
    "    :param min_samples: The number of samples in a neighborhood for a point to be considered as a core point\n",
    "    :return: GeoDataFrame of fire points with an additional column 'label' indicating the cluster each point belongs to\n",
    "    \"\"\"\n",
    "\n",
    "    # Perform DBSCAN clustering\n",
    "    coords = gdf[['longitude', 'latitude']].values\n",
    "    db = DBSCAN(eps=eps, min_samples=min_samples).fit(coords)\n",
    "\n",
    "    # Add cluster labels to the dataframe\n",
    "    gdf['label'] = db.labels_\n",
    "\n",
    "    return gdf\n",
    "\n",
    "def filter_clusters(gdf, min_cluster_size=10, min_high_confidence=1):\n",
    "    \"\"\"\n",
    "    Filter out clusters that have fewer points, and fewer high confidence points, than the two thresholds\n",
    "    :param gdf: GeoDataFrame of fire points with 'label' column indicating the cluster each point belongs to\n",
    "    :param min_cluster_size: Minimum number of points in a cluster for it to be kept\n",
    "    :param min_high_confidence: Minimum number of high confidence points in a cluster for it to be kept\n",
    "    :return: GeoDataFrame of fire points in clusters that meet both thresholds\n",
    "    \"\"\"\n",
    "\n",
    "    # Count the number of points in each cluster\n",
    "    cluster_counts = gdf['label'].value_counts()\n",
    "\n",
    "    # Count the number of high confidence points in each cluster\n",
    "    high_confidence_counts = gdf.loc[gdf['confidence'] == 'h']['label'].value_counts()\n",
    "\n",
    "    # Filter out small clusters and clusters with too few high confidence points\n",
    "    valid_clusters = cluster_counts[(cluster_counts >= min_cluster_size) & (high_confidence_counts >= min_high_confidence)].index\n",
    "    gdf = gdf[gdf['label'].isin(valid_clusters)]\n",
    "\n",
    "    return gdf"
   ]
  }
 ],
 "metadata": {
  "language_info": {
   "name": "python"
  }
 },
 "nbformat": 4,
 "nbformat_minor": 2
}
