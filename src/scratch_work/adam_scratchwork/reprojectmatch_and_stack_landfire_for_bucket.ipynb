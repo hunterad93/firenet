{
 "cells": [
  {
   "cell_type": "markdown",
   "metadata": {},
   "source": [
    "This code is part of a preprocessing step for static layers used in firenet. It involves loading various landfire layers, reprojecting them to a common coordinate reference system (CRS), and then stacking them together into a single multi-layered dataset. Landfire data gives spatial information such as elevation, vegetation height etc. that are useful to feed into firenet when it makes inference via interpreting spectral satellite data.\n",
    "\n",
    "The reprojected layers are matched to the CRS of a median image to ensure spatial alignment across all layers. This combined dataset is then saved as a NetCDF file for further use. \n",
    "\n",
    "Memory management is also considered by manually invoking garbage collection after processing each layer to ensure the environment won't crash.\n"
   ]
  },
  {
   "cell_type": "code",
   "execution_count": 1,
   "metadata": {},
   "outputs": [],
   "source": [
    "import gc\n",
    "import xarray as xr\n",
    "import rioxarray\n",
    "\n",
    "# Load the landfire layers\n",
    "landfire_tif_paths = ['/Users/adamhunter/Documents/school projs/firenet/data/static_layers/LF2020_Elev_220_CONUS/Tif/LC20_Elev_220.tif',\n",
    "                        '/Users/adamhunter/Documents/school projs/firenet/data/static_layers/LF2022_CBD_220_CONUS/Tif/LC22_CBD_220.tif',\n",
    "                        '/Users/adamhunter/Documents/school projs/firenet/data/static_layers/LF2022_EVC_220_CONUS/Tif/LC22_EVC_220.tif',\n",
    "                        '/Users/adamhunter/Documents/school projs/firenet/data/static_layers/LF2022_EVH_220_CONUS/Tif/LC22_EVH_220.tif',\n",
    "                        '/Users/adamhunter/Documents/school projs/firenet/data/static_layers/LF2022_FBFM40_220_CONUS/Tif/LC22_F40_220.tif',\n",
    "                        '/Users/adamhunter/Documents/school projs/firenet/data/static_layers/LF2022_FVH_220_CONUS/Tif/LC22_FVH_220.tif']\n",
    "\n",
    "# Initialize an empty dictionary to store the datasets\n",
    "datasets = {}"
   ]
  },
  {
   "cell_type": "code",
   "execution_count": 2,
   "metadata": {},
   "outputs": [],
   "source": [
    "import rioxarray\n",
    "from rasterio.enums import Resampling\n",
    "import os\n",
    "\n",
    "# Define the target resolution\n",
    "# Create an empty dictionary to hold the reprojected/resampled datasets\n",
    "landfire_datasets = {}\n",
    "\n",
    "median_ds = rioxarray.open_rasterio('/Users/adamhunter/Documents/school projs/firenet/data/static_layers/landfire reprojected/reprojected_median_ds.nc')"
   ]
  },
  {
   "cell_type": "code",
   "execution_count": 3,
   "metadata": {},
   "outputs": [
    {
     "data": {
      "text/plain": [
       "CRS.from_epsg(5070)"
      ]
     },
     "execution_count": 3,
     "metadata": {},
     "output_type": "execute_result"
    }
   ],
   "source": [
    "median_ds.rio.crs"
   ]
  },
  {
   "cell_type": "code",
   "execution_count": 4,
   "metadata": {},
   "outputs": [
    {
     "name": "stdout",
     "output_type": "stream",
     "text": [
      "/Users/adamhunter/Documents/school projs/firenet/data/static_layers/LF2020_Elev_220_CONUS/Tif/LC20_Elev_220.tif\n",
      "Original CRS: EPSG:5070\n",
      "Original bounds: (-2362395.0, 221265.0, 2327655.0, 3267405.0)\n",
      "Clipped bounds: (-2349705.0, 1844805.0, -1499985.0, 3159255.0)\n",
      "Reprojected CRS: EPSG:5070\n",
      "Reprojected bounds: (-2349705.0, 1844505.0, -1499955.0, 3159255.0)\n",
      "Reprojected resolution: (375.0, -375.0)\n",
      "Reprojected shape: (3506, 2266)\n",
      "/Users/adamhunter/Documents/school projs/firenet/data/static_layers/LF2022_CBD_220_CONUS/Tif/LC22_CBD_220.tif\n",
      "Original CRS: EPSG:5070\n",
      "Original bounds: (-2362395.000000001, 221265.00000000373, 2327654.999999999, 3267405.0000000037)\n",
      "Clipped bounds: (-2349705.000000001, 1844805.0000000037, -1499985.000000001, 3159255.0000000037)\n",
      "Reprojected CRS: EPSG:5070\n",
      "Reprojected bounds: (-2349705.000000001, 1844505.0000000037, -1499955.000000001, 3159255.0000000037)\n",
      "Reprojected resolution: (375.0, -375.0)\n",
      "Reprojected shape: (3506, 2266)\n",
      "/Users/adamhunter/Documents/school projs/firenet/data/static_layers/LF2022_EVC_220_CONUS/Tif/LC22_EVC_220.tif\n",
      "Original CRS: EPSG:5070\n",
      "Original bounds: (-2362395.000000002, 221265.00000000373, 2327654.999999998, 3267405.0000000037)\n",
      "Clipped bounds: (-2349705.000000002, 1844805.0000000037, -1499985.0000000019, 3159255.0000000037)\n",
      "Reprojected CRS: EPSG:5070\n",
      "Reprojected bounds: (-2349705.000000002, 1844505.0000000037, -1499955.0000000019, 3159255.0000000037)\n",
      "Reprojected resolution: (375.0, -375.0)\n",
      "Reprojected shape: (3506, 2266)\n",
      "/Users/adamhunter/Documents/school projs/firenet/data/static_layers/LF2022_EVH_220_CONUS/Tif/LC22_EVH_220.tif\n",
      "Original CRS: EPSG:5070\n",
      "Original bounds: (-2362395.000000002, 221265.00000000373, 2327654.999999998, 3267405.0000000037)\n",
      "Clipped bounds: (-2349705.000000002, 1844805.0000000037, -1499985.0000000019, 3159255.0000000037)\n",
      "Reprojected CRS: EPSG:5070\n",
      "Reprojected bounds: (-2349705.000000002, 1844505.0000000037, -1499955.0000000019, 3159255.0000000037)\n",
      "Reprojected resolution: (375.0, -375.0)\n",
      "Reprojected shape: (3506, 2266)\n",
      "/Users/adamhunter/Documents/school projs/firenet/data/static_layers/LF2022_FBFM40_220_CONUS/Tif/LC22_F40_220.tif\n",
      "Original CRS: EPSG:5070\n",
      "Original bounds: (-2362395.000000001, 221265.00000000373, 2327654.999999999, 3267405.0000000037)\n",
      "Clipped bounds: (-2349705.000000001, 1844805.0000000037, -1499985.000000001, 3159255.0000000037)\n",
      "Reprojected CRS: EPSG:5070\n",
      "Reprojected bounds: (-2349705.000000001, 1844505.0000000037, -1499955.000000001, 3159255.0000000037)\n",
      "Reprojected resolution: (375.0, -375.0)\n",
      "Reprojected shape: (3506, 2266)\n",
      "/Users/adamhunter/Documents/school projs/firenet/data/static_layers/LF2022_FVH_220_CONUS/Tif/LC22_FVH_220.tif\n",
      "Original CRS: EPSG:5070\n",
      "Original bounds: (-2362395.000000001, 221265.00000000373, 2327654.999999999, 3267405.0000000037)\n",
      "Clipped bounds: (-2349705.000000001, 1844805.0000000037, -1499985.000000001, 3159255.0000000037)\n",
      "Reprojected CRS: EPSG:5070\n",
      "Reprojected bounds: (-2349705.000000001, 1844505.0000000037, -1499955.000000001, 3159255.0000000037)\n",
      "Reprojected resolution: (375.0, -375.0)\n",
      "Reprojected shape: (3506, 2266)\n"
     ]
    }
   ],
   "source": [
    "# Loop through each Landfire TIFF file path\n",
    "for tif_path in landfire_tif_paths[0:]:\n",
    "    print(tif_path)\n",
    "    # Open the TIFF file as an xarray dataset\n",
    "    landfire_ds = rioxarray.open_rasterio(tif_path, chunks={'x': 1024, 'y': 1024})\n",
    "    \n",
    "    # Define a bounding box in the western US\n",
    "    # bounding box coordinates in epsg: [minx, miny, maxx, maxy]\n",
    "    bbox = [-2349705.0, 1844810.0, -1500000.0, 3159255.0]\n",
    "\n",
    "\n",
    "    # Print the original CRS of the dataset\n",
    "    print(f\"Original CRS: {landfire_ds.rio.crs}\")\n",
    "\n",
    "    # Print the bounds of the original dataset\n",
    "    print(f\"Original bounds: {landfire_ds.rio.bounds()}\")\n",
    "\n",
    "    # Clip the dataset to the bounding box before reprojecting\n",
    "    landfire_clipped = landfire_ds.rio.clip_box(minx=bbox[0], miny=bbox[1], maxx=bbox[2], maxy=bbox[3])\n",
    "\n",
    "    # Print the bounds of the clipped dataset\n",
    "    print(f\"Clipped bounds: {landfire_clipped.rio.bounds()}\")    # Clip the dataset to the bounding box before reprojecting\n",
    "    landfire_clipped = landfire_ds.rio.clip_box(minx=bbox[0], miny=bbox[1], maxx=bbox[2], maxy=bbox[3])\n",
    "\n",
    "    # Reproject the clipped dataset to the target resolution\n",
    "    landfire_reprojected = landfire_clipped.rio.reproject(\n",
    "        \"EPSG:5070\",\n",
    "        resolution=375,\n",
    "        resampling=Resampling.bilinear  # Choose an appropriate resampling method\n",
    "    )\n",
    "\n",
    "    # Print the CRS after reprojection\n",
    "    print(f\"Reprojected CRS: {landfire_reprojected.rio.crs}\")\n",
    "\n",
    "    # Print the bounds of the reprojected dataset\n",
    "    print(f\"Reprojected bounds: {landfire_reprojected.rio.bounds()}\")\n",
    "\n",
    "    # Print the resolution of the reprojected dataset\n",
    "    print(f\"Reprojected resolution: {landfire_reprojected.rio.resolution()}\")\n",
    "\n",
    "    # Print the shape of the reprojected dataset\n",
    "    print(f\"Reprojected shape: {landfire_reprojected.rio.shape}\")\n",
    "\n",
    "    del landfire_ds\n",
    "    gc.collect()  # Invoke garbage collection\n",
    "\n",
    "    # Get the variable name from the TIFF file name\n",
    "    var_name = os.path.splitext(os.path.basename(tif_path))[0]\n",
    "    \n",
    "    # Define the new file name\n",
    "    new_file_name = f\"/Users/adamhunter/Documents/school projs/firenet/data/static_layers/landfire reprojected/{var_name}_reprojected.tif\"\n",
    "    # Save the reprojected/resampled dataset as a new TIFF file\n",
    "    landfire_reprojected.rio.to_raster(new_file_name)\n",
    "    \n",
    "    # Close the dataset\n",
    "    landfire_reprojected.close()\n",
    "    del landfire_reprojected\n",
    "    gc.collect()  # Invoke garbage collection"
   ]
  },
  {
   "cell_type": "code",
   "execution_count": 11,
   "metadata": {},
   "outputs": [],
   "source": [
    "import glob\n",
    "import rioxarray\n",
    "import os\n",
    "import xarray as xr\n",
    "\n",
    "# Get a list of all reprojected TIFF files\n",
    "reprojected_tif_paths = glob.glob('/Users/adamhunter/Documents/school projs/firenet/data/static_layers/landfire reprojected/*_reprojected.tif')\n",
    "\n",
    "# Initialize an empty dictionary to store the datasets\n",
    "datasets = {}\n",
    "\n",
    "# Load the first dataset as the reference\n",
    "reference_ds = rioxarray.open_rasterio(reprojected_tif_paths[0])\n",
    "\n",
    "# Loop through each reprojected TIFF file path\n",
    "for tif_path in reprojected_tif_paths:\n",
    "    # Open the TIFF file as an xarray dataset\n",
    "    ds = rioxarray.open_rasterio(tif_path)\n",
    "    \n",
    "    # Reproject the dataset to match the reference dataset\n",
    "    ds_matched = ds.rio.reproject_match(reference_ds)\n",
    "    \n",
    "    # Get the variable name from the TIFF file name\n",
    "    var_name = os.path.splitext(os.path.basename(tif_path))[0].replace('_reprojected', '')\n",
    "    \n",
    "    # Add the matched dataset to the dictionary, using the variable name as the key\n",
    "    datasets[var_name] = ds_matched\n",
    "\n",
    "# Combine all matched datasets into a single xarray dataset\n",
    "combined_ds = xr.Dataset(datasets)\n",
    "\n",
    "# Save the combined dataset as a NetCDF file\n",
    "combined_ds.to_netcdf('/Users/adamhunter/Documents/school projs/firenet/data/static_layers/landfire reprojected/combined_landfire.nc')"
   ]
  }
 ],
 "metadata": {
  "kernelspec": {
   "display_name": "streamlitenv",
   "language": "python",
   "name": "python3"
  },
  "language_info": {
   "codemirror_mode": {
    "name": "ipython",
    "version": 3
   },
   "file_extension": ".py",
   "mimetype": "text/x-python",
   "name": "python",
   "nbconvert_exporter": "python",
   "pygments_lexer": "ipython3",
   "version": "3.11.0"
  }
 },
 "nbformat": 4,
 "nbformat_minor": 2
}
