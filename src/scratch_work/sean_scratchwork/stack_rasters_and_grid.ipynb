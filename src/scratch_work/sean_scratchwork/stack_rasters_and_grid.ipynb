{
 "cells": [
  {
   "cell_type": "code",
   "execution_count": null,
   "id": "054a105f",
   "metadata": {},
   "outputs": [],
   "source": [
    "import xarray as xr\n",
    "import os\n",
    "\n",
    "import rioxarray\n",
    "import matplotlib.pyplot as plt\n",
    "import rasterio\n",
    "import datetime"
   ]
  },
  {
   "cell_type": "markdown",
   "id": "64c2a4bf",
   "metadata": {},
   "source": [
    "This is a process to stack up rasters to the extent of each training VIIRS image, matching the resolution of the highest resolution product "
   ]
  },
  {
   "cell_type": "code",
   "execution_count": null,
   "id": "5e079347",
   "metadata": {},
   "outputs": [],
   "source": [
    "dem_path = '../Data/training/LANDFIRE/LC20_Elev_220.tif'\n",
    "dem = rioxarray.open_rasterio(dem_path)\n",
    "#xr.open_dataset(dem_path)"
   ]
  },
  {
   "cell_type": "code",
   "execution_count": null,
   "id": "ad783386",
   "metadata": {},
   "outputs": [],
   "source": [
    "bands = ['CMI_C0' + str(i) for i in range(1,10)]\n",
    "bands.extend(['CMI_C' + str(i) for i in range(10,17)])\n",
    "bands.append('goes_imager_projection')\n",
    "\n",
    "\n",
    "goes_path = '../Data/training/GOES/2017/GOES_2017-06-15-08.nc'\n",
    "# goes = xr.open_dataset(goes_path)[bands]"
   ]
  },
  {
   "cell_type": "code",
   "execution_count": null,
   "id": "3526b895",
   "metadata": {},
   "outputs": [],
   "source": [
    "viirs_path = '../Data/training/VIIRS/Rasterized/COG/2017/bool/VIIRS_Rasterized_2017-03-07_7_bool.tif'\n",
    "old_viirs = xr.open_dataset(viirs_path)"
   ]
  },
  {
   "cell_type": "markdown",
   "id": "dab5ab48",
   "metadata": {},
   "source": [
    "# Code to clip GOES imagery to VIIRS data"
   ]
  },
  {
   "cell_type": "markdown",
   "id": "d7616bc1",
   "metadata": {},
   "source": [
    "Actually have to read goes in with rioxarray.open_rasterio()"
   ]
  },
  {
   "cell_type": "code",
   "execution_count": null,
   "id": "d2709ad6",
   "metadata": {},
   "outputs": [],
   "source": [
    "viirs_path = '../Data/Training/VIIRS/Rasterized/Individual_Fires/variable_size/2017/bool/VIIRS_Rasterized_2017-06-15_8_Num3_bool.nc'\n",
    "viirs = xr.open_dataset(viirs_path)\n",
    "viirs = viirs.rio.write_crs('EPSG:4326')\n"
   ]
  },
  {
   "cell_type": "code",
   "execution_count": null,
   "id": "7736f621",
   "metadata": {
    "scrolled": true
   },
   "outputs": [],
   "source": [
    "goes_rio = rioxarray.open_rasterio(goes_path)\n",
    "match = goes_rio.rio.reproject_match(viirs.fillna(0))\n"
   ]
  },
  {
   "cell_type": "code",
   "execution_count": null,
   "id": "f87ebf0d",
   "metadata": {
    "scrolled": false
   },
   "outputs": [],
   "source": [
    "match_viirs = match.assign({'fire_bool':viirs.bool})\n",
    "\n",
    "# vars_list = list(match_viirs.data_vars)  \n",
    "# bads = []\n",
    "# for var in vars_list:  \n",
    "# #     print(goes_viirs[var].attrs)\n",
    "#     try:\n",
    "#         del match_viirs[var].attrs['grid_mapping']\n",
    "#     except KeyError:\n",
    "#         bads.append(var)\n",
    "        \n",
    "# match_viirs\n",
    "# match_viirs.to_netcdf(\"temp/matched_plus_viirs.nc\")"
   ]
  },
  {
   "cell_type": "code",
   "execution_count": null,
   "id": "081fbf5b",
   "metadata": {},
   "outputs": [],
   "source": [
    "viirs.rio.reproject(dem.rio.crs).rio.bounds()"
   ]
  },
  {
   "cell_type": "code",
   "execution_count": null,
   "id": "7f673ac4",
   "metadata": {
    "scrolled": false
   },
   "outputs": [],
   "source": [
    "bounds = (-1172029.42686689, 1208355.3423637336, -1135661.900541234, 1245221.0539815216)\n",
    "\n",
    "dem_viirs = dem.rio.clip_box(bounds[0],bounds[1],bounds[2],bounds[3]).rio.reproject_match(viirs.rio.reproject(\"EPSG:4326\"))"
   ]
  },
  {
   "cell_type": "code",
   "execution_count": null,
   "id": "e008fcd6",
   "metadata": {},
   "outputs": [],
   "source": [
    "dem_viirs"
   ]
  },
  {
   "cell_type": "code",
   "execution_count": null,
   "id": "31f0710d",
   "metadata": {},
   "outputs": [],
   "source": [
    "dem_goes = goes_rio.rio.reproject_match(dem_viirs)"
   ]
  },
  {
   "cell_type": "code",
   "execution_count": null,
   "id": "4c100b87",
   "metadata": {
    "scrolled": true
   },
   "outputs": [],
   "source": [
    "three_matched = dem_goes.assign({'dem': dem_viirs,'fire_bool':viirs.bool})\n"
   ]
  },
  {
   "cell_type": "code",
   "execution_count": null,
   "id": "5757bb0e",
   "metadata": {},
   "outputs": [],
   "source": [
    "vars_list = list(three_matched.data_vars)  \n",
    "bads = []\n",
    "for var in vars_list:  \n",
    "#     print(goes_viirs[var].attrs)\n",
    "    try:\n",
    "        del three_matched[var].attrs['grid_mapping']\n",
    "    except KeyError:\n",
    "        bads.append(var)\n",
    "        \n",
    "three_matched.to_netcdf(\"temp/three_matched.nc\")"
   ]
  },
  {
   "cell_type": "markdown",
   "id": "1a3aa471",
   "metadata": {},
   "source": [
    "# Pseudo code for complete stacking / regridding pipeline"
   ]
  },
  {
   "cell_type": "markdown",
   "id": "14964eab",
   "metadata": {},
   "source": [
    "Write:\n",
    "- Function that takes VIIRS file, takes the metadata from file name, and outputs the corresponding GOES file\n",
    "- Small function that returns the DEM-readible bounding box of a VIIRS image\n",
    "- Function that will perform feature engineering on the GOES imagery"
   ]
  },
  {
   "cell_type": "code",
   "execution_count": null,
   "id": "31083663",
   "metadata": {},
   "outputs": [],
   "source": [
    "# Check if 2017 lines up as expected\n",
    "def get_files(parent_dir, suffix):\n",
    "    files = []\n",
    "    for r,d,f in os.walk(parent_dir):\n",
    "        for file in f:\n",
    "            if file.endswith(suffix):\n",
    "                files.append(os.path.join(r,file))\n",
    "\n",
    "                \n",
    "    return files\n"
   ]
  },
  {
   "cell_type": "code",
   "execution_count": null,
   "id": "5166c2fe",
   "metadata": {},
   "outputs": [],
   "source": [
    "def get_goes_from_viirs(viirs_file):\n",
    "    _split = viirs_file.split('_')\n",
    "    date, hour, num = _split[4:7]\n",
    "    samp_goes = list('/Users/seancarter/Documents/Data/Training/GOES/clipped/2017/GOES_2017-03-01-17_Num2.nc')\n",
    "    \n",
    "    year = date[:4]\n",
    "    \n",
    "    samp_goes[-21:] = f'{date}-{hour}_{num}.nc'\n",
    "    samp_goes[-31:-27] = year\n",
    "    return ('').join(samp_goes)"
   ]
  },
  {
   "cell_type": "code",
   "execution_count": null,
   "id": "7a8268a8",
   "metadata": {},
   "outputs": [],
   "source": [
    "def get_goes_time(goes_path):\n",
    "\n",
    "    split_1 = goes_path.split('/')[-1].split('-')\n",
    "\n",
    "    year = int(split_1[0].split('_')[-1])\n",
    "\n",
    "    month, day = int(split_1[1]), int(split_1[2])\n",
    "\n",
    "    hour = int(split_1[-1].split('.')[0].split('_')[0])\n",
    "\n",
    "    date = datetime.datetime(year, month, day, hour)\n",
    "\n",
    "    return date"
   ]
  },
  {
   "cell_type": "code",
   "execution_count": null,
   "id": "92365bae",
   "metadata": {},
   "outputs": [],
   "source": [
    "goes_files[0].split('/')[-1].split('-')[-1].split('.')[0]"
   ]
  },
  {
   "cell_type": "code",
   "execution_count": null,
   "id": "a9671720",
   "metadata": {},
   "outputs": [],
   "source": []
  },
  {
   "cell_type": "code",
   "execution_count": null,
   "id": "9c3420ec",
   "metadata": {},
   "outputs": [],
   "source": [
    "get_goes_time(goes_files[:5])"
   ]
  },
  {
   "cell_type": "code",
   "execution_count": null,
   "id": "5875736c",
   "metadata": {},
   "outputs": [],
   "source": []
  },
  {
   "cell_type": "code",
   "execution_count": null,
   "id": "f6ad6137",
   "metadata": {},
   "outputs": [],
   "source": [
    "goes_files = get_files('/Users/seancarter/Documents/Data/Training/GOES/clipped/','.nc')\n",
    "# goes_files.extend(get_files('/Users/seancarter/Documents/Data/Training/GOES/clipped/2018/','.nc'))\n",
    "# goes_files.extend(get_files('/Users/seancarter/Documents/Data/Training/GOES/clipped/2019/','.nc'))\n",
    "\n",
    "viirs_files = get_files('/Users/seancarter/Documents/Data/Training/VIIRS/Rasterized/Individual_Fires/variable_size/2017/bool/','.nc')\n",
    "viirs_files.extend(get_files('/Users/seancarter/Documents/Data/Training/VIIRS/Rasterized/Individual_Fires/variable_size/2018/bool/','.nc'))\n",
    "viirs_files.extend(get_files('/Users/seancarter/Documents/Data/Training/VIIRS/Rasterized/Individual_Fires/variable_size/2019/bool/','.nc'))\n",
    "viirs_files.extend(get_files('/Users/seancarter/Documents/Data/Training/VIIRS/Rasterized/Individual_Fires/variable_size/2020/bool/','.nc'))\n",
    "viirs_files.extend(get_files('/Users/seancarter/Documents/Data/Training/VIIRS/Rasterized/Individual_Fires/variable_size/2021/bool/','.nc'))\n",
    "\n"
   ]
  },
  {
   "cell_type": "code",
   "execution_count": null,
   "id": "ba97e700",
   "metadata": {
    "scrolled": true
   },
   "outputs": [],
   "source": [
    "len(goes_files)"
   ]
  },
  {
   "cell_type": "code",
   "execution_count": null,
   "id": "06ff9746",
   "metadata": {},
   "outputs": [],
   "source": [
    "len(viirs_files)"
   ]
  },
  {
   "cell_type": "code",
   "execution_count": null,
   "id": "d3ecef7c",
   "metadata": {},
   "outputs": [],
   "source": [
    "goes_files.sort()\n",
    "viirs_files.sort()"
   ]
  },
  {
   "cell_type": "code",
   "execution_count": null,
   "id": "e34db6a1",
   "metadata": {},
   "outputs": [],
   "source": [
    "# Load in all landfire data\n",
    "dem = '/Users/seancarter/Documents/Data/Training/LANDFIRE/LF2020_Elev_220_CONUS/Tif/LC20_Elev_220.tif'\n",
    "cbd = '/Users/seancarter/Documents/Data/Training/LANDFIRE/LF2022_CBD_220_CONUS/Tif/LC22_CBD_220.tif'\n",
    "evc = '/Users/seancarter/Documents/Data/Training/LANDFIRE/LF2022_EVC_220_CONUS/Tif/LC22_EVC_220.tif'\n",
    "evh = '/Users/seancarter/Documents/Data/Training/LANDFIRE/LF2022_EVH_220_CONUS/Tif/LC22_EVH_220.tif'\n",
    "f40 = '/Users/seancarter/Documents/Data/Training/LANDFIRE/LF2022_FBFM40_220_CONUS/Tif/LC22_F40_220.tif'\n",
    "fvh = '/Users/seancarter/Documents/Data/Training/LANDFIRE/LF2022_FVH_220_CONUS/Tif/LC22_FVH_220.tif'\n",
    "landfire_list = [dem, cbd, evc, evh, f40, fvh]\n",
    "dem, cbd, evc, evh, f40, fvh = [rioxarray.open_rasterio(file) for file in landfire_list]"
   ]
  },
  {
   "cell_type": "code",
   "execution_count": null,
   "id": "68182ffd",
   "metadata": {},
   "outputs": [],
   "source": [
    "viirs_bool_fires = get_files('/Users/seancarter/Documents/Data/Training/VIIRS/Rasterized/Individual_Fires/variable_size/2020/bool/','.nc')\n",
    "viirs_frp_fires = get_files('/Users/seancarter/Documents/Data/Training/VIIRS/Rasterized/Individual_Fires/variable_size/2020/frp/','.nc')"
   ]
  },
  {
   "cell_type": "code",
   "execution_count": null,
   "id": "7e5445f0",
   "metadata": {},
   "outputs": [],
   "source": [
    "bool_img = xr.open_dataset(viirs_bool_fires[0])\n",
    "bool_img = bool_img.rio.write_crs('EPSG:4326')\n",
    "\n",
    "frp_img = xr.open_dataset(viirs_frp_fires[0])\n",
    "frp_img = frp_img.rio.write_crs('EPSG:4326')\n",
    "\n",
    "\n",
    "goes = rioxarray.open_rasterio(get_goes_from_viirs(viirs_bool_fires[0]))\n",
    "\n",
    "bounds = bool_img.rio.reproject(dem.rio.crs).rio.bounds()\n",
    "\n",
    "landfire1 = dem.rio.clip_box(bounds[0],bounds[1],bounds[2],bounds[3])\n",
    "landfire2 = cbd.rio.clip_box(bounds[0],bounds[1],bounds[2],bounds[3]).rio.reproject_match(bool_img)\n",
    "# landfire3 = evc.rio.clip_box(bounds[0],bounds[1],bounds[2],bounds[3])\n",
    "# landfire4 = evh.rio.clip_box(bounds[0],bounds[1],bounds[2],bounds[3])\n",
    "# landfire5 = f40.rio.clip_box(bounds[0],bounds[1],bounds[2],bounds[3])\n",
    "# landfire6 = fvh.rio.clip_box(bounds[0],bounds[1],bounds[2],bounds[3])\n",
    "\n",
    "data_dict = {'cbd': landfire2,\n",
    "                 'fire_bool' : bool_img.bool, \n",
    "             'fire_frp' : frp_img.frp}\n",
    "    \n",
    "dem_goes = goes.rio.reproject_match(landfire2) \n",
    "\n",
    "dem_goes = dem_goes.assign(data_dict)\n",
    "\n",
    "for var in list(dem_goes.data_vars):\n",
    "    try:\n",
    "        del dem_goes[var].attrs['grid_mapping']\n",
    "    except KeyError:\n",
    "        bads.append(var)\n",
    "        \n",
    "dem_goes.to_netcdf(\"temp/matched/dem_goes.nc\")\n",
    "\n",
    "landfire2.to_netcdf(\"temp/matched/landfire2.nc\")\n"
   ]
  },
  {
   "cell_type": "code",
   "execution_count": null,
   "id": "f5751861",
   "metadata": {
    "scrolled": true
   },
   "outputs": [],
   "source": [
    "for var in list(bool_img.data_vars):\n",
    "    try:\n",
    "        del bool_img[var].attrs['grid_mapping']\n",
    "    except KeyError:\n",
    "        bads.append(var)\n",
    "\n",
    "bool_img.to_netcdf(\"temp/matched/boolimg.nc\")"
   ]
  },
  {
   "cell_type": "code",
   "execution_count": null,
   "id": "e6aa63e1",
   "metadata": {},
   "outputs": [],
   "source": []
  },
  {
   "cell_type": "code",
   "execution_count": null,
   "id": "b6c6a13a",
   "metadata": {},
   "outputs": [],
   "source": [
    "import warnings\n",
    "warnings.filterwarnings('ignore')\n"
   ]
  },
  {
   "cell_type": "code",
   "execution_count": null,
   "id": "3c71e093",
   "metadata": {},
   "outputs": [],
   "source": [
    "CMI_C01"
   ]
  },
  {
   "cell_type": "code",
   "execution_count": null,
   "id": "bbb8b9c5",
   "metadata": {},
   "outputs": [],
   "source": [
    "def feature_engineer(img):\n",
    "    feat1 = img['CMI_C06'] / img['CMI_C05']\n",
    "    feat2 = img.CMI_C07 / img.CMI_C05\n",
    "    feat3 = img.CMI_C07 / img.CMI_C06\n",
    "    feat4 = img.CMI_C14 / img.CMI_C07\n",
    "    \n",
    "    data_dict = {'6_5': feat1, '7_5': feat2,\n",
    "                 '7_6': feat3, '14_7': feat4}\n",
    "    \n",
    "    img_crs = img.rio.crs\n",
    "    \n",
    "    return img.assign(data_dict).rio.write_crs(img_crs)"
   ]
  },
  {
   "cell_type": "code",
   "execution_count": null,
   "id": "eb7b6a06",
   "metadata": {
    "scrolled": true
   },
   "outputs": [],
   "source": [
    "feature_engineer(goes)"
   ]
  },
  {
   "cell_type": "code",
   "execution_count": null,
   "id": "5a5e7851",
   "metadata": {
    "scrolled": true
   },
   "outputs": [],
   "source": [
    "missing_goes"
   ]
  },
  {
   "cell_type": "code",
   "execution_count": null,
   "id": "f777b0a7",
   "metadata": {},
   "outputs": [],
   "source": [
    "i"
   ]
  },
  {
   "cell_type": "code",
   "execution_count": null,
   "id": "044474c9",
   "metadata": {},
   "outputs": [],
   "source": [
    "years"
   ]
  },
  {
   "cell_type": "code",
   "execution_count": null,
   "id": "08f17611",
   "metadata": {},
   "outputs": [],
   "source": [
    "viirs_files[4000:]"
   ]
  },
  {
   "cell_type": "code",
   "execution_count": null,
   "id": "2f23df5c",
   "metadata": {},
   "outputs": [],
   "source": [
    "bool_filt = [f.endswith('2017-12-30-19_Num1_bool.nc') for f in viirs_files]\n",
    "\n",
    "bool_filt.index(True)\n",
    "# viirs_files"
   ]
  },
  {
   "cell_type": "code",
   "execution_count": null,
   "id": "a511d9a0",
   "metadata": {
    "scrolled": true
   },
   "outputs": [],
   "source": [
    "missing_goes = []\n",
    "i = 0\n",
    "years = ['2016']\n",
    "for VIIRS_bool in viirs_files:\n",
    "    bool_img = xr.open_dataset(VIIRS_bool)\n",
    "    bool_img = bool_img.rio.write_crs('EPSG:4326')\n",
    "    \n",
    "    \n",
    "    \n",
    "    bounds = bool_img.rio.reproject(dem.rio.crs).rio.bounds()\n",
    "    \n",
    "    try: # Catch not CONUS data\n",
    "        landfire1 = dem.rio.clip_box(bounds[0],bounds[1],bounds[2],bounds[3]).rio.reproject_match(bool_img)\n",
    "        landfire2 = cbd.rio.clip_box(bounds[0],bounds[1],bounds[2],bounds[3]).rio.reproject_match(bool_img)\n",
    "        landfire3 = evc.rio.clip_box(bounds[0],bounds[1],bounds[2],bounds[3]).rio.reproject_match(bool_img)\n",
    "        landfire4 = evh.rio.clip_box(bounds[0],bounds[1],bounds[2],bounds[3]).rio.reproject_match(bool_img)\n",
    "        landfire5 = f40.rio.clip_box(bounds[0],bounds[1],bounds[2],bounds[3]).rio.reproject_match(bool_img)\n",
    "        landfire6 = fvh.rio.clip_box(bounds[0],bounds[1],bounds[2],bounds[3]).rio.reproject_match(bool_img)\n",
    "        \n",
    "    except RuntimeError:\n",
    "        continue\n",
    " \n",
    "    \n",
    "    try:\n",
    "        goes_path = get_goes_from_viirs(VIIRS_bool)\n",
    "        goes = rioxarray.open_rasterio(goes_path)\n",
    "        date = get_goes_time(goes_path)\n",
    "        suffix = goes_path[-21:]\n",
    "        year = str(date.year)\n",
    "        if years[-1] != year:\n",
    "            print('===========================')\n",
    "            print(year + \" STARTED\")\n",
    "        \n",
    "        print(\"Opened File.\")\n",
    "\n",
    "        goes = feature_engineer(goes)\n",
    "        dem_goes = goes.rio.reproject_match(landfire1)\n",
    "    \n",
    "        print(\"Reprojected_matched.\")\n",
    "        data_dict = {'dem': landfire1, 'cbd': landfire2,\n",
    "                 'evc': landfire3, 'evh': landfire4,\n",
    "                 'f40': landfire5, 'fvh': landfire6,\n",
    "                 'fire_bool' : bool_img.bool}\n",
    "    \n",
    "        big_match = dem_goes.assign(data_dict)\n",
    "    \n",
    "    \n",
    "        print(\"Assigned data.\")\n",
    "        # Run through xarray olympics to export\n",
    "        bads = []\n",
    "        vars_list = list(big_match.data_vars)  \n",
    "        \n",
    "        for var in vars_list:  \n",
    "            try:\n",
    "                del big_match[var].attrs['grid_mapping']\n",
    "            except KeyError:\n",
    "                bads.append(var)\n",
    "        \n",
    "        \n",
    "\n",
    "        output_path = f'../Data/Training/Stacked/bool/take2/{year}/'\n",
    "        \n",
    "        if not os.path.exists(output_path):\n",
    "            os.mkdir(output_path)\n",
    "            \n",
    "        big_match.to_netcdf(output_path+suffix)\n",
    "        \n",
    "        print(\"Exported data\")\n",
    "        print(f'{suffix} done.')\n",
    "        \n",
    "        \n",
    "        print('\\n')\n",
    "        print(\"---------\")\n",
    "        i += 1\n",
    "        year = str(int(year)+1)\n",
    "        years.append(year)\n",
    "        \n",
    "    except OSError:\n",
    "        missing_goes.append(VIIRS_bool)\n",
    "        continue\n",
    "    \n",
    "    \n",
    "    \n",
    "    "
   ]
  },
  {
   "cell_type": "code",
   "execution_count": null,
   "id": "e88c8cce",
   "metadata": {
    "scrolled": true
   },
   "outputs": [],
   "source": [
    "big_match['6/5']"
   ]
  },
  {
   "cell_type": "markdown",
   "id": "64412176",
   "metadata": {},
   "source": [
    "# Code to get list of viirs files"
   ]
  },
  {
   "cell_type": "code",
   "execution_count": null,
   "id": "865a1be6",
   "metadata": {},
   "outputs": [],
   "source": [
    "files = []\n",
    "for r,d,f in os.walk('../Data/Training/VIIRS/Rasterized/Individual_Fires/variable_size/'):\n",
    "    for file in f:\n",
    "        if file.endswith('_bool.nc'):\n",
    "            files.append(os.path.join(r,file))\n",
    "#     print(folder)"
   ]
  },
  {
   "cell_type": "markdown",
   "id": "19e5b9b4",
   "metadata": {},
   "source": [
    "I wanted to see where the largest VIIRS files were, to perhaps pad each viirs file to be the same exact size"
   ]
  },
  {
   "cell_type": "code",
   "execution_count": null,
   "id": "b186dbd0",
   "metadata": {},
   "outputs": [],
   "source": []
  },
  {
   "cell_type": "code",
   "execution_count": null,
   "id": "fedf5572",
   "metadata": {},
   "outputs": [],
   "source": [
    "dims = []\n",
    "for f in files:\n",
    "    data = xr.open_dataset(f)\n",
    "    x,y = data.dims['x'], data.dims['y']\n",
    "    dims.append((x,y))\n",
    "    data = None\n",
    "\n",
    "xs = []\n",
    "ys = []\n",
    "for x,y in dims:\n",
    "    xs.append(x)\n",
    "    ys.append(y)"
   ]
  },
  {
   "cell_type": "code",
   "execution_count": null,
   "id": "b26c8d96",
   "metadata": {},
   "outputs": [],
   "source": [
    "dims[56]"
   ]
  },
  {
   "cell_type": "code",
   "execution_count": null,
   "id": "3a0bbd2f",
   "metadata": {},
   "outputs": [],
   "source": [
    "dims[335]"
   ]
  },
  {
   "cell_type": "code",
   "execution_count": null,
   "id": "73830046",
   "metadata": {},
   "outputs": [],
   "source": [
    "max_x = xs.index(max(xs))\n",
    "max_y = ys.index(max(ys))\n",
    "\n",
    "print(\"dimensions of maxes: \")\n",
    "print(dims[max_x])\n",
    "print(dims[max_y])\n",
    "\n",
    "print('indexes of maxes:')\n",
    "print(dims.index(dims[max_x]))\n",
    "print(dims.index(dims[max_y]))\n"
   ]
  },
  {
   "cell_type": "code",
   "execution_count": null,
   "id": "afc76bd0",
   "metadata": {},
   "outputs": [],
   "source": [
    "from rioxarray.merge import merge_arrays\n",
    "\n",
    "\n",
    "raster1 = rioxarray.open_rasterio(files[418])\n",
    "raster2 = rioxarray.open_rasterio(files[616])\n",
    "raster_to_mosaic = [raster1, raster2]\n",
    "merged = merge_arrays(raster_to_mosaic)\n",
    "\n"
   ]
  },
  {
   "cell_type": "markdown",
   "id": "aa017f1f",
   "metadata": {},
   "source": [
    "In theory, \"merged\" is a raster whose bounds encompass the bounds of every single VIIRS observation. Although this is difficult to verify using QGIS since it is so large and the fires are so small"
   ]
  },
  {
   "cell_type": "markdown",
   "id": "0aca032b",
   "metadata": {},
   "source": [
    "# Need to down sampling all imagery to the smallest resolution of data products we have"
   ]
  },
  {
   "cell_type": "markdown",
   "id": "5c0b43af",
   "metadata": {},
   "source": [
    "https://pygis.io/docs/e_raster_resample.html"
   ]
  },
  {
   "cell_type": "markdown",
   "id": "8474a2c4",
   "metadata": {},
   "source": [
    "# Scratch"
   ]
  },
  {
   "cell_type": "markdown",
   "id": "69430702",
   "metadata": {},
   "source": [
    "( from https://corteva.github.io/rioxarray/stable/examples/reproject_match.html)"
   ]
  },
  {
   "cell_type": "code",
   "execution_count": null,
   "id": "00c8c710",
   "metadata": {},
   "outputs": [],
   "source": [
    "def print_raster(raster):\n",
    "    print(\n",
    "        f\"shape: {raster.rio.shape}\\n\"\n",
    "        f\"resolution: {raster.rio.resolution()}\\n\"\n",
    "        f\"bounds: {raster.rio.bounds()}\\n\"\n",
    "        f\"CRS: {raster.rio.crs}\\n\"\n",
    "    )"
   ]
  },
  {
   "cell_type": "code",
   "execution_count": null,
   "id": "56833c31",
   "metadata": {},
   "outputs": [],
   "source": [
    "fig, axes = plt.subplots(ncols=2, figsize=(12,4))\n",
    "goes['CMI_C01'].plot(ax=axes[0])\n",
    "viirs['band_data'].plot(ax=axes[1])\n",
    "plt.draw()"
   ]
  },
  {
   "cell_type": "code",
   "execution_count": null,
   "id": "04e05d72",
   "metadata": {},
   "outputs": [],
   "source": [
    "print(\"Original Raster:\\n----------------\\n\")\n",
    "print_raster(goes)\n",
    "print(\"Raster to Match:\\n----------------\\n\")\n",
    "print_raster(viirs)"
   ]
  },
  {
   "cell_type": "code",
   "execution_count": null,
   "id": "3fa43016",
   "metadata": {
    "scrolled": true
   },
   "outputs": [],
   "source": [
    "goes_rio = rioxarray.open_rasterio(goes_path)"
   ]
  },
  {
   "cell_type": "code",
   "execution_count": null,
   "id": "d4430224",
   "metadata": {},
   "outputs": [],
   "source": [
    "goes_rio = rioxarray.open_rasterio(goes_path)\n",
    "match = goes_rio.rio.reproject_match(viirs.fillna(0))"
   ]
  },
  {
   "cell_type": "code",
   "execution_count": null,
   "id": "6805c2d0",
   "metadata": {
    "scrolled": true
   },
   "outputs": [],
   "source": [
    "match = match.assign_coords({\n",
    "    \"x\": match.x,\n",
    "    \"y\": match.y,\n",
    "})\n"
   ]
  },
  {
   "cell_type": "code",
   "execution_count": null,
   "id": "5a786458",
   "metadata": {},
   "outputs": [],
   "source": [
    "vars_list = list(match.data_vars)  \n",
    "bads = []\n",
    "for var in vars_list:  \n",
    "#     print(goes_viirs[var].attrs)\n",
    "    try:\n",
    "        del match[var].attrs['grid_mapping']\n",
    "    except KeyError:\n",
    "        bads.append(var)"
   ]
  },
  {
   "cell_type": "code",
   "execution_count": null,
   "id": "954ad963",
   "metadata": {},
   "outputs": [],
   "source": [
    "match.to_netcdf('temp/match.nc')"
   ]
  },
  {
   "cell_type": "markdown",
   "id": "33a4aaf6",
   "metadata": {},
   "source": [
    "# Scratch 2"
   ]
  },
  {
   "cell_type": "markdown",
   "id": "185c6083",
   "metadata": {},
   "source": [
    "This is how I add bands to GOES imagery. Need to see if this works after using reproject match"
   ]
  },
  {
   "cell_type": "code",
   "execution_count": null,
   "id": "2c37f30d",
   "metadata": {},
   "outputs": [],
   "source": [
    "goes_viirs = goes2.assign({'fire_bool':viirs.rio.reproject('EPSG:4326').band_data})\n",
    "\n",
    "vars_list = list(goes_viirs.data_vars)  \n",
    "bads = []\n",
    "for var in vars_list:  \n",
    "#     print(goes_viirs[var].attrs)\n",
    "    try:\n",
    "        del goes_viirs[var].attrs['grid_mapping']\n",
    "    except KeyError:\n",
    "        bads.append(var)"
   ]
  },
  {
   "cell_type": "code",
   "execution_count": null,
   "id": "50dee733",
   "metadata": {},
   "outputs": [],
   "source": [
    "goes.assign({'fire_bool':viirs.band_data}).to_netcdf(\"temp/raw_goesviirs.nc\")"
   ]
  },
  {
   "cell_type": "code",
   "execution_count": null,
   "id": "eb642692",
   "metadata": {},
   "outputs": [],
   "source": [
    "viirs.band_data['spatial_ref']"
   ]
  }
 ],
 "metadata": {
  "kernelspec": {
   "display_name": "Python 3 (ipykernel)",
   "language": "python",
   "name": "python3"
  },
  "language_info": {
   "codemirror_mode": {
    "name": "ipython",
    "version": 3
   },
   "file_extension": ".py",
   "mimetype": "text/x-python",
   "name": "python",
   "nbconvert_exporter": "python",
   "pygments_lexer": "ipython3",
   "version": "3.10.5"
  }
 },
 "nbformat": 4,
 "nbformat_minor": 5
}
