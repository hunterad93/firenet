{
 "cells": [
  {
   "cell_type": "code",
   "execution_count": 2,
   "id": "b1bae18c",
   "metadata": {},
   "outputs": [],
   "source": [
    "import xarray as xarr\n",
    "import glob\n",
    "import os\n",
    "from fnmatch import fnmatch\n",
    "import rioxarray as rio\n",
    "import numpy as np"
   ]
  },
  {
   "cell_type": "code",
   "execution_count": 132,
   "id": "09b0328e",
   "metadata": {},
   "outputs": [],
   "source": [
    "parent_dir = '../Data/Training/VIIRS/Rasterized/NC/'\n",
    "\n",
    "def list_files(parent_dir, pattern = \".nc\"):\n",
    "    pattern = pattern\n",
    "    filelist = []\n",
    "\n",
    "    for root, dirs, files in os.walk(parent_dir):\n",
    "        for file in files:\n",
    "            #append the file name to the list\n",
    "            filelist.append(os.path.join(root,file))\n",
    "\n",
    "    for r in [f for f in filelist if f[-len(pattern):] != pattern]:\n",
    "        filelist.remove(r)\n",
    "        \n",
    "    return filelist\n",
    "\n",
    "files = list_files(parent_dir)"
   ]
  },
  {
   "cell_type": "code",
   "execution_count": 123,
   "id": "991711a4",
   "metadata": {
    "scrolled": true
   },
   "outputs": [],
   "source": [
    "for f in files:\n",
    "    frp_bool = f.split('_')[-1][:-3]\n",
    "    \n",
    "    \n",
    "    raster = rio.open_rasterio(f)\n",
    "    \n",
    "        \n",
    "    parent_dir = ('/').join(list(map(lambda x: x.replace('NC', 'COG'), \n",
    "                                     f.split('/')[:7]))) + \\\n",
    "                                            '/' + frp_bool + '/'\n",
    "    \n",
    "    if not os.path.isdir(parent_dir):\n",
    "        os.makedirs(parent_dir)\n",
    "        \n",
    "    new_file_path = parent_dir + f.split('/')[-1][:-3] + '.tif'\n",
    "    \n",
    "    raster.rio.to_raster(new_file_path, driver = \"COG\")\n",
    "    \n"
   ]
  },
  {
   "cell_type": "code",
   "execution_count": 179,
   "id": "8677799e",
   "metadata": {},
   "outputs": [
    {
     "name": "stdout",
     "output_type": "stream",
     "text": [
      "[]\n",
      "[]\n",
      "4256\n",
      "4256\n"
     ]
    }
   ],
   "source": [
    "# TESTING TO MAKE SURE EVERYTHING WROTE PROPERLY\n",
    "COG_files = list_files('../Data/Training/VIIRS/Rasterized/COG/', pattern = '.tif')\n",
    "nc_files = list_files('../Data/Training/VIIRS/Rasterized/NC/', pattern = '.nc')\n",
    "\n",
    "nc_files.sort()\n",
    "COG_files.sort()\n",
    "\n",
    "cog_new = []\n",
    "nc_new = []\n",
    "for f, ff in zip(nc_files, COG_files):\n",
    "    f = f[:-3]\n",
    "    ff = ff[:-4]\n",
    "    \n",
    "    nc_new.append(f)\n",
    "    cog_new.append(ff)\n",
    "\n",
    "cog_new = [f.replace('COG/', '') for f in cog_new]\n",
    "nc_new = [f.replace('NC/', '') for f in nc_new]\n",
    "\n",
    "print([f for f in cog_new if f not in nc_new])\n",
    "print([f for f in nc_new if f not in cog_new])\n",
    "\n",
    "print(len(COG_files))\n",
    "print(len(nc_files))"
   ]
  },
  {
   "cell_type": "markdown",
   "id": "7d7e6112",
   "metadata": {},
   "source": [
    "# Upload to s3 bucket"
   ]
  },
  {
   "cell_type": "code",
   "execution_count": null,
   "id": "f34c8494",
   "metadata": {},
   "outputs": [],
   "source": []
  }
 ],
 "metadata": {
  "kernelspec": {
   "display_name": "Python 3 (ipykernel)",
   "language": "python",
   "name": "python3"
  },
  "language_info": {
   "codemirror_mode": {
    "name": "ipython",
    "version": 3
   },
   "file_extension": ".py",
   "mimetype": "text/x-python",
   "name": "python",
   "nbconvert_exporter": "python",
   "pygments_lexer": "ipython3",
   "version": "3.10.5"
  }
 },
 "nbformat": 4,
 "nbformat_minor": 5
}
