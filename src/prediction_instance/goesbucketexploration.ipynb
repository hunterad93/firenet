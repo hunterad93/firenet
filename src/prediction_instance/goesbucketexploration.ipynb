{
 "cells": [
  {
   "cell_type": "code",
   "execution_count": 1,
   "metadata": {},
   "outputs": [],
   "source": [
    "import xarray as xr\n",
    "import fsspec\n",
    "from google.cloud import storage\n",
    "import os\n",
    "\n",
    "os.environ['GOOGLE_APPLICATION_CREDENTIALS'] = '/Users/adamhunter/Documents/school projs/firenet/data/credentials/firenet-99-reader.json'"
   ]
  },
  {
   "cell_type": "code",
   "execution_count": 2,
   "metadata": {},
   "outputs": [],
   "source": [
    "blob_name = 'ABI-L1b-RadC/2023/341/22/OR_ABI-L1b-RadC-M6C16_G18_s20233412211186_e20233412213572_c20233412214050.nc'\n",
    "\n",
    "# Use fsspec to create a file system\n",
    "fs = fsspec.filesystem('gcs', token=os.environ['GOOGLE_APPLICATION_CREDENTIALS'])\n",
    "\n",
    "# Open the file directly into memory with xarray\n",
    "f = fs.open(f'gcp-public-data-goes-18/{blob_name}')\n",
    "ds = xr.open_dataset(f, engine='h5netcdf')"
   ]
  },
  {
   "cell_type": "code",
   "execution_count": 3,
   "metadata": {},
   "outputs": [
    {
     "name": "stdout",
     "output_type": "stream",
     "text": [
      "KeysView(<xarray.Dataset>\n",
      "Dimensions:                                           (y: 1500, x: 2500,\n",
      "                                                       number_of_time_bounds: 2,\n",
      "                                                       number_of_image_bounds: 2,\n",
      "                                                       band: 1,\n",
      "                                                       number_of_harmonization_coefficients: 3,\n",
      "                                                       num_star_looks: 24)\n",
      "Coordinates:\n",
      "    t                                                 datetime64[ns] ...\n",
      "  * y                                                 (y) float64 0.1282 ... ...\n",
      "  * x                                                 (x) float64 -0.06997 .....\n",
      "    y_image                                           float32 ...\n",
      "    x_image                                           float32 ...\n",
      "    band_id                                           (band) int8 ...\n",
      "    band_wavelength                                   (band) float32 ...\n",
      "    t_star_look                                       (num_star_looks) datetime64[ns] ...\n",
      "    band_wavelength_star_look                         (num_star_looks) float32 ...\n",
      "Dimensions without coordinates: number_of_time_bounds, number_of_image_bounds,\n",
      "                                band, number_of_harmonization_coefficients,\n",
      "                                num_star_looks\n",
      "Data variables: (12/39)\n",
      "    Rad                                               (y, x) float32 ...\n",
      "    DQF                                               (y, x) float32 ...\n",
      "    time_bounds                                       (number_of_time_bounds) datetime64[ns] ...\n",
      "    goes_imager_projection                            int32 ...\n",
      "    y_image_bounds                                    (number_of_image_bounds) float32 ...\n",
      "    x_image_bounds                                    (number_of_image_bounds) float32 ...\n",
      "    ...                                                ...\n",
      "    algorithm_dynamic_input_data_container            int32 ...\n",
      "    processing_parm_version_container                 int32 ...\n",
      "    algorithm_product_version_container               int32 ...\n",
      "    star_id                                           (num_star_looks) float32 ...\n",
      "    channel_integration_time                          float64 ...\n",
      "    channel_gain_field                                float64 ...\n",
      "Attributes: (12/30)\n",
      "    naming_authority:          gov.nesdis.noaa\n",
      "    Conventions:               CF-1.7\n",
      "    standard_name_vocabulary:  CF Standard Name Table (v35, 20 July 2016)\n",
      "    institution:               DOC/NOAA/NESDIS > U.S. Department of Commerce,...\n",
      "    project:                   GOES\n",
      "    production_site:           WCDAS\n",
      "    ...                        ...\n",
      "    timeline_id:               ABI Mode 6\n",
      "    date_created:              2023-12-07T22:14:05.0Z\n",
      "    time_coverage_start:       2023-12-07T22:11:18.6Z\n",
      "    time_coverage_end:         2023-12-07T22:13:57.2Z\n",
      "    LUT_Filenames:             SpaceLookParams(FM3A_CDRL79RevC_DO_13_00_00)-7...\n",
      "    id:                        dc8cda38-0311-4e7d-b4a3-aeb3ee77813f)\n"
     ]
    }
   ],
   "source": [
    "# Print the keys of the dataset\n",
    "print(ds.keys())"
   ]
  },
  {
   "cell_type": "code",
   "execution_count": 4,
   "metadata": {},
   "outputs": [
    {
     "name": "stdout",
     "output_type": "stream",
     "text": [
      "{\"type\": \"FeatureCollection\", \"features\": [{\"id\": \"0\", \"type\": \"Feature\", \"properties\": {}, \"geometry\": {\"type\": \"Polygon\", \"coordinates\": [[[-0.07000000029802322, 0.12824000418186188], [0.07000000029802322, 0.12824000418186188], [0.07000000029802322, 0.04424000158905983], [-0.07000000029802322, 0.04424000158905983], [-0.07000000029802322, 0.12824000418186188]]]}}]}\n"
     ]
    }
   ],
   "source": [
    "import geopandas as gpd\n",
    "from shapely.geometry import Polygon\n",
    "\n",
    "# Get the image bounds\n",
    "x_bounds = ds['x_image_bounds'].values\n",
    "y_bounds = ds['y_image_bounds'].values\n",
    "\n",
    "# Create a polygon from the image bounds\n",
    "polygon = Polygon([(x_bounds[0], y_bounds[0]), (x_bounds[1], y_bounds[0]), (x_bounds[1], y_bounds[1]), (x_bounds[0], y_bounds[1])])\n",
    "\n",
    "# Create a GeoDataFrame\n",
    "gdf = gpd.GeoDataFrame({\n",
    "    'geometry': [polygon],\n",
    "})\n",
    "\n",
    "# Convert to GeoJSON\n",
    "geojson = gdf.to_json()\n",
    "\n",
    "print(geojson)"
   ]
  },
  {
   "cell_type": "code",
   "execution_count": 5,
   "metadata": {},
   "outputs": [
    {
     "name": "stdout",
     "output_type": "stream",
     "text": [
      "GeoJSON uploaded to predictions.geojson.\n"
     ]
    }
   ],
   "source": [
    "from google.cloud import storage\n",
    "import os\n",
    "\n",
    "os.environ['GOOGLE_APPLICATION_CREDENTIALS'] = '/Users/adamhunter/Documents/school projs/firenet/data/credentials/firenet-99-writer.json'\n",
    "\n",
    "def upload_blob(bucket_name, geojson, destination_blob_name):\n",
    "    \"\"\"Uploads a GeoJSON string to the bucket.\"\"\"\n",
    "    storage_client = storage.Client()\n",
    "\n",
    "    bucket = storage_client.bucket(bucket_name)\n",
    "    blob = bucket.blob(destination_blob_name)\n",
    "\n",
    "    blob.upload_from_string(geojson)\n",
    "\n",
    "    print(\n",
    "        \"GeoJSON uploaded to {}.\".format(destination_blob_name)\n",
    "    )\n",
    "\n",
    "# Call the function to upload your GeoJSON\n",
    "upload_blob('prediction_imagery', geojson, 'predictions.geojson')"
   ]
  }
 ],
 "metadata": {
  "kernelspec": {
   "display_name": "streamlitenv",
   "language": "python",
   "name": "python3"
  },
  "language_info": {
   "codemirror_mode": {
    "name": "ipython",
    "version": 3
   },
   "file_extension": ".py",
   "mimetype": "text/x-python",
   "name": "python",
   "nbconvert_exporter": "python",
   "pygments_lexer": "ipython3",
   "version": "3.11.0"
  }
 },
 "nbformat": 4,
 "nbformat_minor": 2
}
