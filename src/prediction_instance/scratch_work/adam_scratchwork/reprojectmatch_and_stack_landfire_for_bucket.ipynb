{
 "cells": [
  {
   "cell_type": "markdown",
   "metadata": {},
   "source": [
    "This code is part of a preprocessing step for static layers used in firenet. It involves loading various landfire layers, reprojecting them to a common coordinate reference system (CRS), and then stacking them together into a single multi-layered dataset. Landfire data gives spatial information such as elevation, vegetation height etc. that are useful to feed into firenet when it makes inference via interpreting spectral satellite data.\n",
    "\n",
    "The reprojected layers are matched to the CRS of a median image to ensure spatial alignment across all layers. This combined dataset is then saved as a NetCDF file for further use. \n",
    "\n",
    "Memory management is also considered by manually invoking garbage collection after processing each layer to ensure the environment won't crash.\n"
   ]
  },
  {
   "cell_type": "code",
   "execution_count": 1,
   "metadata": {},
   "outputs": [],
   "source": [
    "import gc\n",
    "import xarray as xr\n",
    "import rioxarray\n",
    "\n",
    "# Load the landfire layers\n",
    "landfire_tif_paths = ['/Users/adamhunter/Documents/school projs/firenet/data/static_layers/LF2020_Elev_220_CONUS/Tif/LC20_Elev_220.tif',\n",
    "                        '/Users/adamhunter/Documents/school projs/firenet/data/static_layers/LF2022_CBD_220_CONUS/Tif/LC22_CBD_220.tif',\n",
    "                        '/Users/adamhunter/Documents/school projs/firenet/data/static_layers/LF2022_EVC_220_CONUS/Tif/LC22_EVC_220.tif',\n",
    "                        '/Users/adamhunter/Documents/school projs/firenet/data/static_layers/LF2022_EVH_220_CONUS/Tif/LC22_EVH_220.tif',\n",
    "                        '/Users/adamhunter/Documents/school projs/firenet/data/static_layers/LF2022_FBFM40_220_CONUS/Tif/LC22_F40_220.tif',\n",
    "                        '/Users/adamhunter/Documents/school projs/firenet/data/static_layers/LF2022_FVH_220_CONUS/Tif/LC22_FVH_220.tif']\n",
    "\n",
    "# Initialize an empty dictionary to store the datasets\n",
    "datasets = {}"
   ]
  },
  {
   "cell_type": "code",
   "execution_count": 2,
   "metadata": {},
   "outputs": [],
   "source": [
    "import rioxarray\n",
    "from rasterio.enums import Resampling\n",
    "import os\n",
    "\n",
    "# Define the target resolution\n",
    "target_resolution = (3270.9038690767325, -3270.9038690767325)\n",
    "\n",
    "# Create an empty dictionary to hold the reprojected/resampled datasets\n",
    "landfire_datasets = {}\n",
    "\n",
    "median_ds = rioxarray.open_rasterio('reprojected_median_ds.nc')"
   ]
  },
  {
   "cell_type": "code",
   "execution_count": 3,
   "metadata": {},
   "outputs": [
    {
     "data": {
      "text/plain": [
       "CRS.from_epsg(5070)"
      ]
     },
     "execution_count": 3,
     "metadata": {},
     "output_type": "execute_result"
    }
   ],
   "source": [
    "median_ds.rio.crs"
   ]
  },
  {
   "cell_type": "code",
   "execution_count": 4,
   "metadata": {},
   "outputs": [
    {
     "name": "stdout",
     "output_type": "stream",
     "text": [
      "/Users/adamhunter/Documents/school projs/firenet/data/static_layers/LF2022_EVC_220_CONUS/Tif/LC22_EVC_220.tif\n"
     ]
    }
   ],
   "source": [
    "# Loop through each Landfire TIFF file path\n",
    "for tif_path in landfire_tif_paths[2:]:\n",
    "    print(tif_path)\n",
    "    # Open the TIFF file as an xarray dataset\n",
    "    landfire_ds = rioxarray.open_rasterio(tif_path)\n",
    "    \n",
    "    # Reproject and resample the dataset to the target resolution\n",
    "    # Assuming the median_ds has the target CRS and resolution\n",
    "    landfire_reprojected = landfire_ds.rio.reproject_match(median_ds)\n",
    "    \n",
    "    del landfire_ds\n",
    "\n",
    "    # Get the variable name from the TIFF file name\n",
    "    var_name = os.path.splitext(os.path.basename(tif_path))[0]\n",
    "    \n",
    "    # Define the new file name\n",
    "    new_file_name = f\"{var_name}_reprojected.tif\"\n",
    "    \n",
    "    # Save the reprojected/resampled dataset as a new TIFF file\n",
    "    landfire_reprojected.rio.to_raster(new_file_name)\n",
    "\n",
    "    "
   ]
  }
 ],
 "metadata": {
  "kernelspec": {
   "display_name": "streamlitenv",
   "language": "python",
   "name": "python3"
  },
  "language_info": {
   "codemirror_mode": {
    "name": "ipython",
    "version": 3
   },
   "file_extension": ".py",
   "mimetype": "text/x-python",
   "name": "python",
   "nbconvert_exporter": "python",
   "pygments_lexer": "ipython3",
   "version": "3.11.0"
  }
 },
 "nbformat": 4,
 "nbformat_minor": 2
}
